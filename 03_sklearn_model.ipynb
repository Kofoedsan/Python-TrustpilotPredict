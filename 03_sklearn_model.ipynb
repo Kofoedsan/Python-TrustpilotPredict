{
 "cells": [
  {
   "cell_type": "code",
   "execution_count": 1,
   "metadata": {},
   "outputs": [],
   "source": [
    "import pandas as pd\n",
    "\n",
    "from sklearn.feature_extraction.text import TfidfVectorizer\n",
    "from sklearn.model_selection import train_test_split\n",
    "from sklearn.svm import LinearSVC\n",
    "from sklearn.svm import SVC\n",
    "\n",
    "import pickle"
   ]
  },
  {
   "cell_type": "code",
   "execution_count": 2,
   "metadata": {},
   "outputs": [
    {
     "data": {
      "text/html": [
       "<div>\n",
       "<style scoped>\n",
       "    .dataframe tbody tr th:only-of-type {\n",
       "        vertical-align: middle;\n",
       "    }\n",
       "\n",
       "    .dataframe tbody tr th {\n",
       "        vertical-align: top;\n",
       "    }\n",
       "\n",
       "    .dataframe thead th {\n",
       "        text-align: right;\n",
       "    }\n",
       "</style>\n",
       "<table border=\"1\" class=\"dataframe\">\n",
       "  <thead>\n",
       "    <tr style=\"text-align: right;\">\n",
       "      <th></th>\n",
       "      <th>rating</th>\n",
       "      <th>review</th>\n",
       "    </tr>\n",
       "  </thead>\n",
       "  <tbody>\n",
       "    <tr>\n",
       "      <th>0</th>\n",
       "      <td>__label__5</td>\n",
       "      <td>jeg elsker zaladnozalando har så mange forskel...</td>\n",
       "    </tr>\n",
       "    <tr>\n",
       "      <th>1</th>\n",
       "      <td>__label__4</td>\n",
       "      <td>handlet flere gange. gode produkter  nemt at b...</td>\n",
       "    </tr>\n",
       "    <tr>\n",
       "      <th>2</th>\n",
       "      <td>__label__5</td>\n",
       "      <td>alt til ug. billige priser. nem returnering. s...</td>\n",
       "    </tr>\n",
       "    <tr>\n",
       "      <th>3</th>\n",
       "      <td>__label__2</td>\n",
       "      <td>hej betalt min regning ( troede jeg) den var å...</td>\n",
       "    </tr>\n",
       "    <tr>\n",
       "      <th>4</th>\n",
       "      <td>__label__5</td>\n",
       "      <td>super godt.hurtig levering  og fine priser.</td>\n",
       "    </tr>\n",
       "  </tbody>\n",
       "</table>\n",
       "</div>"
      ],
      "text/plain": [
       "        rating                                             review\n",
       "0  __label__5   jeg elsker zaladnozalando har så mange forskel...\n",
       "1  __label__4   handlet flere gange. gode produkter  nemt at b...\n",
       "2  __label__5   alt til ug. billige priser. nem returnering. s...\n",
       "3  __label__2   hej betalt min regning ( troede jeg) den var å...\n",
       "4  __label__5         super godt.hurtig levering  og fine priser."
      ]
     },
     "execution_count": 2,
     "metadata": {},
     "output_type": "execute_result"
    }
   ],
   "source": [
    "df = pd.read_csv(\"output_lower.csv\", engine='python')\n",
    "df.head()"
   ]
  },
  {
   "cell_type": "code",
   "execution_count": 3,
   "metadata": {},
   "outputs": [
    {
     "name": "stdout",
     "output_type": "stream",
     "text": [
      "0       jeg elsker zaladnozalando har så mange forskel...\n",
      "1       handlet flere gange. gode produkter  nemt at b...\n",
      "2       alt til ug. billige priser. nem returnering. s...\n",
      "3       hej betalt min regning ( troede jeg) den var å...\n",
      "4             super godt.hurtig levering  og fine priser.\n",
      "                              ...                        \n",
      "5059    let at bestille  super hurtig levering  alt va...\n",
      "5060    lynhurtig ekspedition og levering også her til...\n",
      "5061    funktionsfejl efter godt et års brug- varen bl...\n",
      "5062    god service og hurtig leveringjeg bor i københ...\n",
      "5063    hurtig ekspeditionbestil om aftenen og modtag ...\n",
      "Name: review, Length: 5064, dtype: object\n",
      "  (0, 5634)\t0.5663691536979064\n",
      "  (0, 2094)\t0.12860341309268966\n",
      "  (0, 802)\t0.19931240964115685\n",
      "  (0, 5498)\t0.1489041994146305\n",
      "  (0, 5070)\t0.10317647417993288\n",
      "  (0, 9339)\t0.3317037459965604\n",
      "  (0, 4431)\t0.19746582282054254\n",
      "  (0, 2550)\t0.07979997098932066\n",
      "  (0, 3013)\t0.09761694653943863\n",
      "  (0, 6929)\t0.13923635896370326\n",
      "  (0, 7107)\t0.058676144392479375\n",
      "  (0, 6773)\t0.2787754611414061\n",
      "  (0, 3909)\t0.1284345201939382\n",
      "  (0, 3284)\t0.22100594372591578\n",
      "  (0, 6315)\t0.15545219910435437\n",
      "  (0, 9980)\t0.09693967731152285\n",
      "  (0, 4112)\t0.08102445435366668\n",
      "  (0, 11722)\t0.3997408306787607\n",
      "  (0, 2531)\t0.2323120824063438\n",
      "  (0, 4953)\t0.07384363656325796\n",
      "  (1, 8493)\t0.3187138960144532\n",
      "  (1, 1307)\t0.28504988658633557\n",
      "  (1, 989)\t0.2541394695909799\n",
      "  (1, 6879)\t0.5700997731726711\n",
      "  (1, 8032)\t0.34981681308212487\n",
      "  :\t:\n",
      "  (5062, 2609)\t0.08287400242687584\n",
      "  (5062, 2163)\t0.08345848960093126\n",
      "  (5062, 8763)\t0.16566767591086026\n",
      "  (5062, 989)\t0.0808445519845877\n",
      "  (5062, 5070)\t0.11131698662311094\n",
      "  (5062, 3013)\t0.10531881825278608\n",
      "  (5062, 7107)\t0.18991688654845643\n",
      "  (5062, 3909)\t0.13856786520385816\n",
      "  (5062, 4112)\t0.08741719634364271\n",
      "  (5062, 4953)\t0.15933963956122077\n",
      "  (5063, 2481)\t0.47328093826897305\n",
      "  (5063, 6644)\t0.3990352101084699\n",
      "  (5063, 6681)\t0.2938702191583302\n",
      "  (5063, 681)\t0.3008876961277309\n",
      "  (5063, 2190)\t0.2885100521795207\n",
      "  (5063, 7049)\t0.23318489650856117\n",
      "  (5063, 4413)\t0.1845364381835186\n",
      "  (5063, 7123)\t0.13824190899320676\n",
      "  (5063, 8049)\t0.3448569284953759\n",
      "  (5063, 7574)\t0.1918450595010487\n",
      "  (5063, 4401)\t0.133427869927206\n",
      "  (5063, 2609)\t0.09094483886814489\n",
      "  (5063, 2163)\t0.09158624739564868\n",
      "  (5063, 6879)\t0.19901657676255638\n",
      "  (5063, 7107)\t0.13894152681338234\n"
     ]
    }
   ],
   "source": [
    "#Term Frequency — Inverse Document Frequency\n",
    "tfidf = TfidfVectorizer()\n",
    "\n",
    "x = df['review']\n",
    "y = df['rating']\n",
    "\n",
    "x = tfidf.fit_transform(x)"
   ]
  },
  {
   "cell_type": "code",
   "execution_count": 4,
   "metadata": {},
   "outputs": [],
   "source": [
    "x_train,x_test,y_train,y_test = train_test_split(x,y,test_size = 0.2, random_state=5)"
   ]
  },
  {
   "cell_type": "code",
   "execution_count": 5,
   "metadata": {},
   "outputs": [],
   "source": [
    "#clf = LinearSVC(max_iter=10000, random_state=2)\n",
    "#clf=SVC(kernel='linear',probability=True, random_state=32, decision_function_shape='ovr')\n",
    "#clf.fit(x_train,y_train)\n",
    "\n",
    "#Gemmer modellen i en fil der kan loades i stedet for trænes om og om igen\n",
    "#pickle.dump(clf,open('dbmodel','wb'))\n",
    "\n",
    "with open('dbmodel', 'rb') as file:\n",
    "      \n",
    "    clf = pickle.load(file)\n",
    "    "
   ]
  },
  {
   "cell_type": "code",
   "execution_count": 6,
   "metadata": {},
   "outputs": [],
   "source": [
    "x1 = \"utrolig utrolig dårlig service! hold jer lang væk herfra !\"\n",
    "\n",
    "x2 = \"dejlig super super godt\"\n",
    "\n",
    "x3 = \"rimelig overskuelig app/hjemmeside det fungere fint og som det skal. men har nu ventet i over en måned på at i for er par sko på lager som jeg godt kunne tænke mig. syndes godt nok det er lang tid.\"\n",
    "\n",
    "x4 = \"Vil gerne vide hvorfor jeg ikke blev tilbudt TV 2 PLAY og HBO i butikken da jeg købte en netforbindelse , så senere at det får man hvis man bestiller via nettet ?\"\n",
    "\n",
    "vec1 = tfidf.transform([x1])\n",
    "vec2 = tfidf.transform([x2])\n",
    "vec3 = tfidf.transform([x3])\n",
    "vec4 = tfidf.transform([x4])"
   ]
  },
  {
   "cell_type": "code",
   "execution_count": 7,
   "metadata": {
    "scrolled": true
   },
   "outputs": [
    {
     "name": "stdout",
     "output_type": "stream",
     "text": [
      "['__label__1 ']\n",
      "['__label__5 ']\n",
      "['__label__5 ']\n",
      "['__label__1 ']\n"
     ]
    }
   ],
   "source": [
    "print(clf.predict(vec1))\n",
    "print(clf.predict(vec2))\n",
    "print(clf.predict(vec3))\n",
    "print(clf.predict(vec4))"
   ]
  },
  {
   "cell_type": "code",
   "execution_count": 8,
   "metadata": {},
   "outputs": [
    {
     "name": "stdout",
     "output_type": "stream",
     "text": [
      "['__label__1 ' '__label__2 ' '__label__3 ' '__label__4 ' '__label__5 ']\n",
      "[[0.70182116 0.11442206 0.03283119 0.02352595 0.12739964]]\n"
     ]
    }
   ],
   "source": [
    "print(clf.classes_)\n",
    "print(clf.predict_proba(vec1))"
   ]
  },
  {
   "cell_type": "code",
   "execution_count": 9,
   "metadata": {},
   "outputs": [
    {
     "name": "stdout",
     "output_type": "stream",
     "text": [
      "['__label__1 ' '__label__2 ' '__label__3 ' '__label__4 ' '__label__5 ']\n",
      "[[2.09310420e-04 4.09929886e-04 6.64529784e-04 5.03784676e-02\n",
      "  9.48337762e-01]]\n"
     ]
    }
   ],
   "source": [
    "print(clf.classes_)\n",
    "print(clf.predict_proba(vec2))"
   ]
  },
  {
   "cell_type": "code",
   "execution_count": 10,
   "metadata": {
    "scrolled": false
   },
   "outputs": [
    {
     "name": "stdout",
     "output_type": "stream",
     "text": [
      "['__label__1 ' '__label__2 ' '__label__3 ' '__label__4 ' '__label__5 ']\n",
      "[[0.15180866 0.19169069 0.13637762 0.15068753 0.36943549]]\n"
     ]
    }
   ],
   "source": [
    "print(clf.classes_)\n",
    "print(clf.predict_proba(vec3))"
   ]
  },
  {
   "cell_type": "code",
   "execution_count": null,
   "metadata": {},
   "outputs": [],
   "source": []
  }
 ],
 "metadata": {
  "kernelspec": {
   "display_name": "Python 3",
   "language": "python",
   "name": "python3"
  },
  "language_info": {
   "codemirror_mode": {
    "name": "ipython",
    "version": 3
   },
   "file_extension": ".py",
   "mimetype": "text/x-python",
   "name": "python",
   "nbconvert_exporter": "python",
   "pygments_lexer": "ipython3",
   "version": "3.7.6"
  }
 },
 "nbformat": 4,
 "nbformat_minor": 4
}
