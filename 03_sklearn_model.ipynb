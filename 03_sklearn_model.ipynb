{
 "cells": [
  {
   "cell_type": "code",
   "execution_count": 1,
   "metadata": {},
   "outputs": [],
   "source": [
    "import pandas as pd\n",
    "\n",
    "from sklearn.feature_extraction.text import TfidfVectorizer\n",
    "from sklearn.model_selection import train_test_split\n",
    "from sklearn.svm import LinearSVC\n",
    "from sklearn.svm import SVC\n",
    "\n",
    "import pickle"
   ]
  },
  {
   "cell_type": "code",
   "execution_count": 2,
   "metadata": {},
   "outputs": [
    {
     "data": {
      "text/html": [
       "<div>\n",
       "<style scoped>\n",
       "    .dataframe tbody tr th:only-of-type {\n",
       "        vertical-align: middle;\n",
       "    }\n",
       "\n",
       "    .dataframe tbody tr th {\n",
       "        vertical-align: top;\n",
       "    }\n",
       "\n",
       "    .dataframe thead th {\n",
       "        text-align: right;\n",
       "    }\n",
       "</style>\n",
       "<table border=\"1\" class=\"dataframe\">\n",
       "  <thead>\n",
       "    <tr style=\"text-align: right;\">\n",
       "      <th></th>\n",
       "      <th>rating</th>\n",
       "      <th>review</th>\n",
       "    </tr>\n",
       "  </thead>\n",
       "  <tbody>\n",
       "    <tr>\n",
       "      <th>0</th>\n",
       "      <td>__label__2</td>\n",
       "      <td>Hej betalt min regning ( troede jeg) den var å...</td>\n",
       "    </tr>\n",
       "    <tr>\n",
       "      <th>1</th>\n",
       "      <td>__label__5</td>\n",
       "      <td>Super godt.Hurtig levering  og fine priser.</td>\n",
       "    </tr>\n",
       "    <tr>\n",
       "      <th>2</th>\n",
       "      <td>__label__2</td>\n",
       "      <td>Jeg har bestilt et par sandaler ved Zalando og...</td>\n",
       "    </tr>\n",
       "    <tr>\n",
       "      <th>3</th>\n",
       "      <td>__label__1</td>\n",
       "      <td>Irriterende at få en rykker på 100 kr for mang...</td>\n",
       "    </tr>\n",
       "    <tr>\n",
       "      <th>4</th>\n",
       "      <td>__label__3</td>\n",
       "      <td>Har køb hos Zalando i mange år og har været st...</td>\n",
       "    </tr>\n",
       "  </tbody>\n",
       "</table>\n",
       "</div>"
      ],
      "text/plain": [
       "        rating                                             review\n",
       "0  __label__2   Hej betalt min regning ( troede jeg) den var å...\n",
       "1  __label__5         Super godt.Hurtig levering  og fine priser.\n",
       "2  __label__2   Jeg har bestilt et par sandaler ved Zalando og...\n",
       "3  __label__1   Irriterende at få en rykker på 100 kr for mang...\n",
       "4  __label__3   Har køb hos Zalando i mange år og har været st..."
      ]
     },
     "execution_count": 2,
     "metadata": {},
     "output_type": "execute_result"
    }
   ],
   "source": [
    "df = pd.read_csv(\"sklearn.csv\")\n",
    "df.head()"
   ]
  },
  {
   "cell_type": "code",
   "execution_count": 3,
   "metadata": {},
   "outputs": [],
   "source": [
    "#Term Frequency — Inverse Document Frequency\n",
    "tfidf = TfidfVectorizer()\n",
    "\n",
    "x = df['review']\n",
    "y = df['rating']\n",
    "\n",
    "x = tfidf.fit_transform(x)"
   ]
  },
  {
   "cell_type": "code",
   "execution_count": 4,
   "metadata": {},
   "outputs": [],
   "source": [
    "x_train,x_test,y_train,y_test = train_test_split(x,y,test_size = 0.2, random_state=5)"
   ]
  },
  {
   "cell_type": "code",
   "execution_count": 5,
   "metadata": {},
   "outputs": [
    {
     "data": {
      "text/plain": [
       "SVC(C=1.0, break_ties=False, cache_size=200, class_weight=None, coef0=0.0,\n",
       "    decision_function_shape='ovr', degree=3, gamma='scale', kernel='linear',\n",
       "    max_iter=10000, probability=True, random_state=32, shrinking=True,\n",
       "    tol=0.001, verbose=False)"
      ]
     },
     "execution_count": 5,
     "metadata": {},
     "output_type": "execute_result"
    }
   ],
   "source": [
    "clf=SVC(kernel='linear',probability=True, random_state=32, decision_function_shape='ovr',max_iter=10000)\n",
    "clf.fit(x_train,y_train)\n",
    "\n",
    "#with open('sklearn', 'rb') as file:\n",
    "      \n",
    "#    clf = pickle.load(file)\n",
    "    "
   ]
  },
  {
   "cell_type": "code",
   "execution_count": 6,
   "metadata": {},
   "outputs": [],
   "source": [
    "#Gemmer modellen i en fil der kan loades i stedet for trænes om og om igen\n",
    "pickle.dump(skmodel,open('sklearn','wb'))\n"
   ]
  },
  {
   "cell_type": "code",
   "execution_count": 7,
   "metadata": {},
   "outputs": [],
   "source": [
    "x1 = \"utrolig utrolig dårlig service! hold jer lang væk herfra !\"\n",
    "\n",
    "x2 = \"dejlig super super godt\"\n",
    "\n",
    "x3 = \"rimelig overskuelig app/hjemmeside det fungere fint og som det skal. men har nu ventet i over en måned på at i for er par sko på lager som jeg godt kunne tænke mig. syndes godt nok det er lang tid.\"\n",
    "\n",
    "x4 = \"Vil gerne vide hvorfor jeg ikke blev tilbudt TV 2 PLAY og HBO i butikken da jeg købte en netforbindelse , så senere at det får man hvis man bestiller via nettet ?\"\n",
    "\n",
    "vec1 = tfidf.transform([x1])\n",
    "vec2 = tfidf.transform([x2])\n",
    "vec3 = tfidf.transform([x3])\n",
    "vec4 = tfidf.transform([x4])"
   ]
  },
  {
   "cell_type": "code",
   "execution_count": 8,
   "metadata": {
    "scrolled": true
   },
   "outputs": [
    {
     "name": "stdout",
     "output_type": "stream",
     "text": [
      "['__label__1 ']\n",
      "['__label__5 ']\n",
      "['__label__3 ']\n",
      "['__label__1 ']\n"
     ]
    }
   ],
   "source": [
    "print(clf.predict(vec1))\n",
    "print(clf.predict(vec2))\n",
    "print(clf.predict(vec3))\n",
    "print(clf.predict(vec4))"
   ]
  },
  {
   "cell_type": "code",
   "execution_count": 9,
   "metadata": {},
   "outputs": [
    {
     "name": "stdout",
     "output_type": "stream",
     "text": [
      "['__label__1 ' '__label__2 ' '__label__3 ' '__label__4 ' '__label__5 ']\n",
      "[[0.85481517 0.07132695 0.02172856 0.01526165 0.03686767]]\n"
     ]
    }
   ],
   "source": [
    "print(clf.classes_)\n",
    "print(clf.predict_proba(vec1))"
   ]
  },
  {
   "cell_type": "code",
   "execution_count": 10,
   "metadata": {},
   "outputs": [
    {
     "name": "stdout",
     "output_type": "stream",
     "text": [
      "['__label__1 ' '__label__2 ' '__label__3 ' '__label__4 ' '__label__5 ']\n",
      "[[4.38935040e-04 1.77464676e-03 2.04814971e-03 5.67503419e-02\n",
      "  9.38987927e-01]]\n"
     ]
    }
   ],
   "source": [
    "print(clf.classes_)\n",
    "print(clf.predict_proba(vec2))"
   ]
  },
  {
   "cell_type": "code",
   "execution_count": 11,
   "metadata": {
    "scrolled": false
   },
   "outputs": [
    {
     "name": "stdout",
     "output_type": "stream",
     "text": [
      "['__label__1 ' '__label__2 ' '__label__3 ' '__label__4 ' '__label__5 ']\n",
      "[[0.05367825 0.16931685 0.61668684 0.09115966 0.0691584 ]]\n"
     ]
    }
   ],
   "source": [
    "print(clf.classes_)\n",
    "print(clf.predict_proba(vec3))"
   ]
  },
  {
   "cell_type": "code",
   "execution_count": null,
   "metadata": {},
   "outputs": [],
   "source": []
  }
 ],
 "metadata": {
  "kernelspec": {
   "display_name": "Python 3",
   "language": "python",
   "name": "python3"
  },
  "language_info": {
   "codemirror_mode": {
    "name": "ipython",
    "version": 3
   },
   "file_extension": ".py",
   "mimetype": "text/x-python",
   "name": "python",
   "nbconvert_exporter": "python",
   "pygments_lexer": "ipython3",
   "version": "3.7.6"
  }
 },
 "nbformat": 4,
 "nbformat_minor": 4
}
