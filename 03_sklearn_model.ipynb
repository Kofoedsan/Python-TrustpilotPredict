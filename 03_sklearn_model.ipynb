{
 "cells": [
  {
   "cell_type": "code",
   "execution_count": 1,
   "metadata": {},
   "outputs": [],
   "source": [
    "import pandas as pd\n",
    "\n",
    "from sklearn.feature_extraction.text import TfidfVectorizer\n",
    "from sklearn.model_selection import train_test_split\n",
    "from sklearn.svm import LinearSVC\n",
    "from sklearn.svm import SVC\n",
    "\n",
    "from sklearn import svm, datasets\n",
    "import numpy as np\n",
    "\n",
    "import pickle\n",
    "\n",
    "import matplotlib.pyplot as plt\n",
    "plt.style.use('fivethirtyeight')"
   ]
  },
  {
   "cell_type": "code",
   "execution_count": 2,
   "metadata": {},
   "outputs": [
    {
     "data": {
      "text/html": [
       "<div>\n",
       "<style scoped>\n",
       "    .dataframe tbody tr th:only-of-type {\n",
       "        vertical-align: middle;\n",
       "    }\n",
       "\n",
       "    .dataframe tbody tr th {\n",
       "        vertical-align: top;\n",
       "    }\n",
       "\n",
       "    .dataframe thead th {\n",
       "        text-align: right;\n",
       "    }\n",
       "</style>\n",
       "<table border=\"1\" class=\"dataframe\">\n",
       "  <thead>\n",
       "    <tr style=\"text-align: right;\">\n",
       "      <th></th>\n",
       "      <th>rating</th>\n",
       "      <th>review</th>\n",
       "    </tr>\n",
       "  </thead>\n",
       "  <tbody>\n",
       "    <tr>\n",
       "      <th>0</th>\n",
       "      <td>__label__5</td>\n",
       "      <td>jeg elsker zaladnozalando har så mange forskel...</td>\n",
       "    </tr>\n",
       "    <tr>\n",
       "      <th>1</th>\n",
       "      <td>__label__4</td>\n",
       "      <td>handlet flere gange. gode produkter  nemt at b...</td>\n",
       "    </tr>\n",
       "    <tr>\n",
       "      <th>2</th>\n",
       "      <td>__label__5</td>\n",
       "      <td>alt til ug. billige priser. nem returnering. s...</td>\n",
       "    </tr>\n",
       "    <tr>\n",
       "      <th>3</th>\n",
       "      <td>__label__2</td>\n",
       "      <td>hej betalt min regning ( troede jeg) den var å...</td>\n",
       "    </tr>\n",
       "    <tr>\n",
       "      <th>4</th>\n",
       "      <td>__label__5</td>\n",
       "      <td>super godt.hurtig levering  og fine priser.</td>\n",
       "    </tr>\n",
       "  </tbody>\n",
       "</table>\n",
       "</div>"
      ],
      "text/plain": [
       "        rating                                             review\n",
       "0  __label__5   jeg elsker zaladnozalando har så mange forskel...\n",
       "1  __label__4   handlet flere gange. gode produkter  nemt at b...\n",
       "2  __label__5   alt til ug. billige priser. nem returnering. s...\n",
       "3  __label__2   hej betalt min regning ( troede jeg) den var å...\n",
       "4  __label__5         super godt.hurtig levering  og fine priser."
      ]
     },
     "execution_count": 2,
     "metadata": {},
     "output_type": "execute_result"
    }
   ],
   "source": [
    "df = pd.read_csv(\"output_lower.csv\", engine='python')\n",
    "df.head()"
   ]
  },
  {
   "cell_type": "code",
   "execution_count": 6,
   "metadata": {},
   "outputs": [
    {
     "name": "stdout",
     "output_type": "stream",
     "text": [
      "0       jeg elsker zaladnozalando har så mange forskel...\n",
      "1       handlet flere gange. gode produkter  nemt at b...\n",
      "2       alt til ug. billige priser. nem returnering. s...\n",
      "3       hej betalt min regning ( troede jeg) den var å...\n",
      "4             super godt.hurtig levering  og fine priser.\n",
      "                              ...                        \n",
      "5059    let at bestille  super hurtig levering  alt va...\n",
      "5060    lynhurtig ekspedition og levering også her til...\n",
      "5061    funktionsfejl efter godt et års brug- varen bl...\n",
      "5062    god service og hurtig leveringjeg bor i københ...\n",
      "5063    hurtig ekspeditionbestil om aftenen og modtag ...\n",
      "Name: review, Length: 5064, dtype: object\n",
      "0       __label__5 \n",
      "1       __label__4 \n",
      "2       __label__5 \n",
      "3       __label__2 \n",
      "4       __label__5 \n",
      "           ...     \n",
      "5059    __label__5 \n",
      "5060    __label__5 \n",
      "5061    __label__4 \n",
      "5062    __label__5 \n",
      "5063    __label__5 \n",
      "Name: rating, Length: 5064, dtype: object\n"
     ]
    }
   ],
   "source": [
    "tfidf = TfidfVectorizer()\n",
    "\n",
    "x = df['review']\n",
    "y = df['rating']\n",
    "\n",
    "print(x)\n",
    "\n",
    "x = tfidf.fit_transform(x)\n",
    "#print(x)\n",
    "print(y)"
   ]
  },
  {
   "cell_type": "code",
   "execution_count": 7,
   "metadata": {},
   "outputs": [],
   "source": [
    "x_train,x_test,y_train,y_test = train_test_split(x,y,test_size = 0.2, random_state=0)"
   ]
  },
  {
   "cell_type": "code",
   "execution_count": 8,
   "metadata": {},
   "outputs": [
    {
     "data": {
      "text/plain": [
       "SVC(C=1.0, break_ties=False, cache_size=200, class_weight=None, coef0=0.0,\n",
       "    decision_function_shape='ovr', degree=3, gamma='scale', kernel='linear',\n",
       "    max_iter=-1, probability=True, random_state=32, shrinking=True, tol=0.001,\n",
       "    verbose=False)"
      ]
     },
     "execution_count": 8,
     "metadata": {},
     "output_type": "execute_result"
    }
   ],
   "source": [
    "#clf = LinearSVC(max_iter=10000, random_state=2)\n",
    "clf=SVC(kernel='linear',probability=True, random_state=32, decision_function_shape='ovr')\n",
    "clf.fit(x_train,y_train)\n",
    "\n",
    "#Gemmer modellen i en fil der kan loades i stedet for trænes om og om igen\n",
    "#pickle.dump(clf,open('dbmodel','wb'))\n",
    "\n",
    "#with open('dbmodel', 'rb') as file:\n",
    "      \n",
    "#    clf = pickle.load(file)"
   ]
  },
  {
   "cell_type": "code",
   "execution_count": 20,
   "metadata": {},
   "outputs": [],
   "source": [
    "x1 = \"utrolig utrolig dårlig service! hold jer lang væk herfra !\"\n",
    "\n",
    "x2 = \"dejlig super super godt\"\n",
    "\n",
    "x3 = \"rimelig overskuelig app/hjemmeside det fungere fint og som det skal. men har nu ventet i over en måned på at i for er par sko på lager som jeg godt kunne tænke mig. syndes godt nok det er lang tid.\"\n",
    "\n",
    "x4 = \"Vil gerne vide hvorfor jeg ikke blev tilbudt TV 2 PLAY og HBO i butikken da jeg købte en netforbindelse , så senere at det får man hvis man bestiller via nettet ?\"\n",
    "\n",
    "vec1 = tfidf.transform([x1])\n",
    "vec2 = tfidf.transform([x2])\n",
    "vec3 = tfidf.transform([x3])\n",
    "vec4 = tfidf.transform([x4])"
   ]
  },
  {
   "cell_type": "code",
   "execution_count": 21,
   "metadata": {
    "scrolled": true
   },
   "outputs": [
    {
     "name": "stdout",
     "output_type": "stream",
     "text": [
      "['__label__1 ']\n",
      "['__label__5 ']\n",
      "['__label__3 ']\n",
      "['__label__1 ']\n"
     ]
    }
   ],
   "source": [
    "print(clf.predict(vec1))\n",
    "print(clf.predict(vec2))\n",
    "print(clf.predict(vec3))\n",
    "print(clf.predict(vec4))"
   ]
  },
  {
   "cell_type": "code",
   "execution_count": 16,
   "metadata": {},
   "outputs": [
    {
     "name": "stdout",
     "output_type": "stream",
     "text": [
      "['__label__1 ' '__label__2 ' '__label__3 ' '__label__4 ' '__label__5 ']\n",
      "[[0.70288217 0.16996167 0.02935598 0.0281232  0.06967697]]\n"
     ]
    }
   ],
   "source": [
    "print(clf.classes_)\n",
    "print(clf.predict_proba(vec1))"
   ]
  },
  {
   "cell_type": "code",
   "execution_count": 12,
   "metadata": {},
   "outputs": [
    {
     "name": "stdout",
     "output_type": "stream",
     "text": [
      "['__label__1 ' '__label__2 ' '__label__3 ' '__label__4 ' '__label__5 ']\n",
      "[[1.91097864e-04 2.32070852e-04 6.59076224e-04 4.52964574e-02\n",
      "  9.53621298e-01]]\n"
     ]
    }
   ],
   "source": [
    "print(clf.classes_)\n",
    "print(clf.predict_proba(vec2))"
   ]
  },
  {
   "cell_type": "code",
   "execution_count": 17,
   "metadata": {
    "scrolled": false
   },
   "outputs": [
    {
     "name": "stdout",
     "output_type": "stream",
     "text": [
      "['__label__1 ' '__label__2 ' '__label__3 ' '__label__4 ' '__label__5 ']\n",
      "[[0.04606334 0.14870524 0.63661768 0.09234808 0.07626566]]\n"
     ]
    }
   ],
   "source": [
    "print(clf.classes_)\n",
    "print(clf.predict_proba(vec3))"
   ]
  }
 ],
 "metadata": {
  "kernelspec": {
   "display_name": "Python 3",
   "language": "python",
   "name": "python3"
  },
  "language_info": {
   "codemirror_mode": {
    "name": "ipython",
    "version": 3
   },
   "file_extension": ".py",
   "mimetype": "text/x-python",
   "name": "python",
   "nbconvert_exporter": "python",
   "pygments_lexer": "ipython3",
   "version": "3.7.6"
  }
 },
 "nbformat": 4,
 "nbformat_minor": 4
}
