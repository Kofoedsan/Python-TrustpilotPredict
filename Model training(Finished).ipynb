{
 "cells": [
  {
   "cell_type": "code",
   "execution_count": 1,
   "metadata": {},
   "outputs": [
    {
     "name": "stdout",
     "output_type": "stream",
     "text": [
      "Collecting fasttext\n",
      "  Downloading fasttext-0.9.2.tar.gz (68 kB)\n",
      "\u001b[K     |████████████████████████████████| 68 kB 1.5 MB/s eta 0:00:011\n",
      "\u001b[?25hRequirement already satisfied: pybind11>=2.2 in /opt/conda/lib/python3.7/site-packages (from fasttext) (2.9.2)\n",
      "Requirement already satisfied: setuptools>=0.7.0 in /opt/conda/lib/python3.7/site-packages (from fasttext) (47.1.1.post20200529)\n",
      "Requirement already satisfied: numpy in /opt/conda/lib/python3.7/site-packages (from fasttext) (1.18.5)\n",
      "Building wheels for collected packages: fasttext\n",
      "  Building wheel for fasttext (setup.py) ... \u001b[?25ldone\n",
      "\u001b[?25h  Created wheel for fasttext: filename=fasttext-0.9.2-cp37-cp37m-linux_x86_64.whl size=3305925 sha256=db930b0a5aee8a55d1907d9d5e061ce2997a89b80adcfb7b983c291e376650f6\n",
      "  Stored in directory: /home/jovyan/.cache/pip/wheels/4e/ca/bf/b020d2be95f7641801a6597a29c8f4f19e38f9c02a345bab9b\n",
      "Successfully built fasttext\n",
      "Installing collected packages: fasttext\n",
      "Successfully installed fasttext-0.9.2\n",
      "Note: you may need to restart the kernel to use updated packages.\n",
      "OK\n"
     ]
    }
   ],
   "source": [
    "#Kør kun denne ÈN gang. Muligt du skal genstarte containeren for at det virker\n",
    "#%pip install fasttext\n",
    "\n",
    "import nltk\n",
    "import nltk.corpus\n",
    "import os\n",
    "import fasttext\n",
    "\n",
    "print(\"OK\")"
   ]
  },
  {
   "cell_type": "code",
   "execution_count": 9,
   "metadata": {},
   "outputs": [
    {
     "name": "stdout",
     "output_type": "stream",
     "text": [
      "['__label__5', '__label__1', '__label__4', '__label__2', '__label__3']\n"
     ]
    }
   ],
   "source": [
    "#https://fasttext.cc/docs/en/supervised-tutorial.html\n",
    "#https://fasttext.cc/docs/en/python-module.html\n",
    "\n",
    "#Jeg aner ikke hvad bucket & dim er. Men det står som noget det kan gøre træningen hurtigere i deres dokumentation.. \n",
    "model = fasttext.train_supervised(input=\"output.csv\", epoch=25, lr=0.5, wordNgrams=2, bucket=200000, dim=50, loss='ova')\n",
    "#print(model.words)\n",
    "print(model.labels)\n",
    "\n"
   ]
  },
  {
   "cell_type": "code",
   "execution_count": 7,
   "metadata": {},
   "outputs": [
    {
     "name": "stdout",
     "output_type": "stream",
     "text": [
      "(('__label__1',), array([0.99143255]))\n",
      "(('__label__5',), array([1.00001001]))\n"
     ]
    }
   ],
   "source": [
    "lol1 = model.predict(\"Kan ikke rigtig anbefale stedet !   At sende en kunde afsted vel vidende bilen ikke fungere :/\")\n",
    "\n",
    "lol2 = model.predict(\"Ringe service\")\n",
    "\n",
    "print(lol1)\n",
    "print(lol2)"
   ]
  },
  {
   "cell_type": "code",
   "execution_count": null,
   "metadata": {},
   "outputs": [],
   "source": []
  }
 ],
 "metadata": {
  "kernelspec": {
   "display_name": "Python 3",
   "language": "python",
   "name": "python3"
  },
  "language_info": {
   "codemirror_mode": {
    "name": "ipython",
    "version": 3
   },
   "file_extension": ".py",
   "mimetype": "text/x-python",
   "name": "python",
   "nbconvert_exporter": "python",
   "pygments_lexer": "ipython3",
   "version": "3.7.6"
  }
 },
 "nbformat": 4,
 "nbformat_minor": 5
}
