{
 "cells": [
  {
   "cell_type": "code",
   "execution_count": 30,
   "metadata": {},
   "outputs": [
    {
     "name": "stdout",
     "output_type": "stream",
     "text": [
      "OK\n"
     ]
    }
   ],
   "source": [
    "#Kør kun denne ÈN gang. Muligt du skal genstarte containeren for at det virker\n",
    "#%pip install fasttext\n",
    "\n",
    "import nltk\n",
    "import nltk.corpus\n",
    "import os\n",
    "import fasttext\n",
    "\n",
    "print(\"OK\")"
   ]
  },
  {
   "cell_type": "code",
   "execution_count": 66,
   "metadata": {},
   "outputs": [
    {
     "name": "stdout",
     "output_type": "stream",
     "text": [
      "['__label__5', '__label__4', '__label__1', '__label__3', '__label__2']\n"
     ]
    }
   ],
   "source": [
    "#https://fasttext.cc/docs/en/supervised-tutorial.html\n",
    "#https://fasttext.cc/docs/en/python-module.html\n",
    "\n",
    "#Jeg aner ikke hvad bucket & dim er. Men det står som noget det kan gøre træningen hurtigere i deres dokumentation.. \n",
    "model = fasttext.train_supervised(input=\"output.csv\", epoch=25, lr=0.5, wordNgrams=2, bucket=200000, dim=50, loss='ova')\n",
    "#print(model.words)\n",
    "print(model.labels)\n",
    "\n"
   ]
  },
  {
   "cell_type": "code",
   "execution_count": 68,
   "metadata": {},
   "outputs": [
    {
     "name": "stdout",
     "output_type": "stream",
     "text": [
      "(('__label__1',), array([0.91080219]))\n",
      "(('__label__4',), array([1.00000441]))\n"
     ]
    }
   ],
   "source": [
    "lol1 = model.predict(\"Kan ikke rigtig anbefale stedet !   At sende en kunde afsted vel vidende bilen ikke fungere :/\")\n",
    "\n",
    "lol2 = model.predict(\"Ringe service\")\n",
    "\n",
    "print(lol1)\n",
    "print(lol2)"
   ]
  },
  {
   "cell_type": "code",
   "execution_count": null,
   "metadata": {},
   "outputs": [],
   "source": []
  }
 ],
 "metadata": {
  "kernelspec": {
   "display_name": "Python 3",
   "language": "python",
   "name": "python3"
  },
  "language_info": {
   "codemirror_mode": {
    "name": "ipython",
    "version": 3
   },
   "file_extension": ".py",
   "mimetype": "text/x-python",
   "name": "python",
   "nbconvert_exporter": "python",
   "pygments_lexer": "ipython3",
   "version": "3.7.6"
  }
 },
 "nbformat": 4,
 "nbformat_minor": 5
}
