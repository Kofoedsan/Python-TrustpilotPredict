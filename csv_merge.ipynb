{
 "cells": [
  {
   "cell_type": "code",
   "execution_count": 14,
   "metadata": {},
   "outputs": [
    {
     "data": {
      "text/plain": [
       "['combined_csv.csv', 'iwao.csv', 'ny-emalje.csv', 'sklearn.csv']"
      ]
     },
     "execution_count": 14,
     "metadata": {},
     "output_type": "execute_result"
    }
   ],
   "source": [
    "import pandas as pd\n",
    "import glob\n",
    "import os\n",
    "\n",
    "# method to get the list of csv files we have avaliable\n",
    "def csvFileNames():\n",
    "    pathname = \"./data/*.csv\"\n",
    "    FileNames = []\n",
    "    for file in glob.glob(pathname, recursive=True):\n",
    "        FileNames.append(file.replace('./data/',''))\n",
    "    \n",
    "    return FileNames\n",
    "        \n",
    "\n",
    "def mergeCsvFiles(fileNamesInput):\n",
    "\n",
    "    fileNames = []\n",
    "    # loop through the list with filenames we want to merge\n",
    "    for name in fileNamesInput:\n",
    "        fileNames.append(name + '.csv')\n",
    "\n",
    "    # path for the joining files\n",
    "    olddir = os.getcwd()\n",
    "    os.chdir(\"./data/\")\n",
    "\n",
    "\n",
    "    #combine all the files\n",
    "    combinedCSV = pd.concat([pd.read_csv(f) for f in fileNames])\n",
    "    print(fileNames)\n",
    "    #export to csv\n",
    "    combinedCSV.to_csv(\"combined_csv.csv\", index=False, encoding='utf-8')\n",
    "    os.chdir(olddir)\n",
    "\n",
    "\n",
    "csvFileNames()\n",
    "\n"
   ]
  },
  {
   "cell_type": "code",
   "execution_count": 13,
   "metadata": {},
   "outputs": [
    {
     "name": "stdout",
     "output_type": "stream",
     "text": [
      "['ny-emalje.csv', 'iwao.csv', 'sklearn.csv']\n"
     ]
    }
   ],
   "source": [
    "mergeCsvFiles(['ny-emalje','iwao','sklearn'])"
   ]
  },
  {
   "cell_type": "code",
   "execution_count": null,
   "metadata": {},
   "outputs": [],
   "source": []
  }
 ],
 "metadata": {
  "interpreter": {
   "hash": "d4d1e4263499bec80672ea0156c357c1ee493ec2b1c70f0acce89fc37c4a6abe"
  },
  "kernelspec": {
   "display_name": "Python 3",
   "language": "python",
   "name": "python3"
  },
  "language_info": {
   "codemirror_mode": {
    "name": "ipython",
    "version": 3
   },
   "file_extension": ".py",
   "mimetype": "text/x-python",
   "name": "python",
   "nbconvert_exporter": "python",
   "pygments_lexer": "ipython3",
   "version": "3.7.6"
  }
 },
 "nbformat": 4,
 "nbformat_minor": 2
}
