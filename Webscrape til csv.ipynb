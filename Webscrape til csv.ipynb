{
 "cells": [
  {
   "cell_type": "markdown",
   "metadata": {},
   "source": [
    "I dette projekt vil vi gøre det muligt, at forudsige en karakter fra 1-5 ud fra tekstindholdet i en anmeldelse på Trustpilot,\n",
    "og vise om sammenhængen af én virksomheds samlede vurdering passer mellem karakter og anmeldelser.\n",
    "Vi har tænkt os at gøre dette ved at scrape en masse andmeldelser fra forskellige virksomheder på Truspilot ved brug af selenium. Vi vil basere vores model ud fra de indsamlede data.\n",
    "\n",
    "Med vores model vil vi:\n",
    "\n",
    "1. Evaluére og fastslå hvor brugbar modellen er ved at sammenligne træningsdata- og valideringsdata.\n",
    "1a.Efterjustér modellens definition efter behov.\n",
    "\n",
    "\n",
    "\n",
    "2. Forudsige hvilken karakter en anmelder vil give ud fra den anmeldselse de har skrevet. (Regression)\n",
    "2a. Sammenlign med den aktuelle anmelder karakter.\n",
    "\n",
    "\n",
    "\n",
    "3. Vis sansynligheden for predictions indenfor Trustpilots fem katagorier: Fremragende, God, Middel, Uder middel, Dårlig, for en specifik anmeldelse. (Classification)\n",
    "\n",
    "\n",
    "\n",
    "4. Gruppere og plot ratings for én specifik virksomhed i et 3D feature space. (Clustering)\n",
    "\n",
    "\n",
    "\n",
    "5. Brug WordCloud til og plotte de mest anvendte Negative og Positive ord."
   ]
  },
  {
   "cell_type": "code",
   "execution_count": 1,
   "metadata": {},
   "outputs": [
    {
     "name": "stdout",
     "output_type": "stream",
     "text": [
      "OK\n",
      "4.8.2\n",
      "1.0\n",
      "2.23.0\n"
     ]
    }
   ],
   "source": [
    "#%pip install requests==2.27.1\n",
    "\n",
    "import bs4\n",
    "import csv\n",
    "import requests\n",
    "#import matplotlib.pyplot as plt\n",
    "from concurrent.futures import ThreadPoolExecutor\n",
    "\n",
    "\n",
    "%matplotlib notebook\n",
    "\n",
    "print(\"OK\")\n",
    "\n",
    "print(bs4.__version__)\n",
    "print(csv.__version__)\n",
    "print(requests.__version__)\n",
    "\n"
   ]
  },
  {
   "cell_type": "code",
   "execution_count": 2,
   "metadata": {},
   "outputs": [
    {
     "name": "stdout",
     "output_type": "stream",
     "text": [
      "OK\n"
     ]
    }
   ],
   "source": [
    "allShopsRequest = []\n",
    "\n",
    "initUrl1 = \"https://dk.trustpilot.com/review/personligrevisor.dk\"\n",
    "initUrl2 = \"https://dk.trustpilot.com/review/am.dk\"\n",
    "\n",
    "allShopsRequest.append(initUrl1)\n",
    "allShopsRequest.append(initUrl2)\n",
    "\n",
    "print(\"OK\")\n"
   ]
  },
  {
   "cell_type": "code",
   "execution_count": 3,
   "metadata": {},
   "outputs": [
    {
     "name": "stdout",
     "output_type": "stream",
     "text": [
      "7\n"
     ]
    }
   ],
   "source": [
    "allPagesRequest = []\n",
    "\n",
    "def multiThreadDownload(shop):\n",
    "    listofpages=\"\"\n",
    "    totalpages=None\n",
    "    \n",
    "    re = requests.get(shop, timeout=10)\n",
    "    soup = bs4.BeautifulSoup(re.content, 'html.parser')\n",
    "    \n",
    "    try:\n",
    "        \n",
    "        totalpages = soup.find('a', attrs={'name':'pagination-button-last'}).text\n",
    "        \n",
    "    except:       \n",
    "        listofpages = [7,6,5,4,3,2,1]\n",
    "        try:\n",
    "            for content in listofpages:\n",
    "                totalpages = soup.find('a', attrs={'name':'pagination-button-'+str(content)}).text\n",
    "                if totalpages is not None:\n",
    "                    print(totalpages)\n",
    "                    break\n",
    "                \n",
    "        except:\n",
    "            print(\"Fejl for helvede!!!!\")\n",
    "\n",
    "    \n",
    "    for i in range(int(totalpages)):\n",
    "        i=i+1\n",
    "        url = shop+'?page='+str(i)\n",
    "        allPagesRequest.append(requests.get(url, timeout=10))\n",
    "\n",
    "\n",
    "with ThreadPoolExecutor(4) as ex:\n",
    "    ex.map(multiThreadDownload, allShopsRequest)\n",
    "\n",
    "\n"
   ]
  },
  {
   "cell_type": "code",
   "execution_count": 5,
   "metadata": {},
   "outputs": [
    {
     "ename": "LookupError",
     "evalue": "unknown encoding: ansi",
     "output_type": "error",
     "traceback": [
      "\u001b[0;31m---------------------------------------------------------------------------\u001b[0m",
      "\u001b[0;31mLookupError\u001b[0m                               Traceback (most recent call last)",
      "\u001b[0;32m<ipython-input-5-d837b1651f02>\u001b[0m in \u001b[0;36m<module>\u001b[0;34m\u001b[0m\n\u001b[1;32m     27\u001b[0m \u001b[0;34m\u001b[0m\u001b[0m\n\u001b[1;32m     28\u001b[0m \u001b[0;32mwith\u001b[0m \u001b[0mThreadPoolExecutor\u001b[0m\u001b[0;34m(\u001b[0m\u001b[0;36m8\u001b[0m\u001b[0;34m)\u001b[0m \u001b[0;32mas\u001b[0m \u001b[0mex\u001b[0m\u001b[0;34m:\u001b[0m\u001b[0;34m\u001b[0m\u001b[0;34m\u001b[0m\u001b[0m\n\u001b[0;32m---> 29\u001b[0;31m     \u001b[0;32mwith\u001b[0m \u001b[0mopen\u001b[0m\u001b[0;34m(\u001b[0m\u001b[0;34m'output.csv'\u001b[0m\u001b[0;34m,\u001b[0m \u001b[0;34m'w'\u001b[0m\u001b[0;34m,\u001b[0m \u001b[0mnewline\u001b[0m\u001b[0;34m=\u001b[0m\u001b[0;34m''\u001b[0m\u001b[0;34m,\u001b[0m \u001b[0mencoding\u001b[0m\u001b[0;34m=\u001b[0m\u001b[0;34m'ansi'\u001b[0m\u001b[0;34m)\u001b[0m \u001b[0;32mas\u001b[0m \u001b[0moutput_file\u001b[0m\u001b[0;34m:\u001b[0m\u001b[0;34m\u001b[0m\u001b[0;34m\u001b[0m\u001b[0m\n\u001b[0m\u001b[1;32m     30\u001b[0m         \u001b[0moutput_writer\u001b[0m \u001b[0;34m=\u001b[0m \u001b[0mcsv\u001b[0m\u001b[0;34m.\u001b[0m\u001b[0mwriter\u001b[0m\u001b[0;34m(\u001b[0m\u001b[0moutput_file\u001b[0m\u001b[0;34m)\u001b[0m\u001b[0;34m\u001b[0m\u001b[0;34m\u001b[0m\u001b[0m\n\u001b[1;32m     31\u001b[0m         \u001b[0moutput_writer\u001b[0m\u001b[0;34m.\u001b[0m\u001b[0mwriterow\u001b[0m\u001b[0;34m(\u001b[0m\u001b[0;34m[\u001b[0m\u001b[0;34m'Rating'\u001b[0m\u001b[0;34m,\u001b[0m \u001b[0;34m'title'\u001b[0m\u001b[0;34m,\u001b[0m \u001b[0;34m'review'\u001b[0m\u001b[0;34m]\u001b[0m\u001b[0;34m)\u001b[0m\u001b[0;34m\u001b[0m\u001b[0;34m\u001b[0m\u001b[0m\n",
      "\u001b[0;31mLookupError\u001b[0m: unknown encoding: ansi"
     ]
    }
   ],
   "source": [
    "def multithreadwritecsvfile(page):\n",
    "        with open('output.csv', 'a', newline='', encoding='ansi') as output_file:\n",
    "            output_writer = csv.writer(output_file)\n",
    "            beautistuff = bs4.BeautifulSoup(page.content,'html.parser')\n",
    "            for content in beautistuff.find_all('section', attrs={'class':'styles_reviewContentwrapper__zH_9M'}):\n",
    "                rating=None\n",
    "                splitted=None\n",
    "                title=None\n",
    "                review=None\n",
    "\n",
    "                try: \n",
    "                    rating = content.find('img',alt = True)\n",
    "                    splitted = rating.get('alt').split()\n",
    "                except:\n",
    "                    pass\n",
    "\n",
    "                try: \n",
    "                    title = content.find('a', attrs={'name':'review-title'}).text\n",
    "                except:\n",
    "                    pass\n",
    "                try: \n",
    "                    review = content.find('p', attrs={'class':'typography_typography__QgicV typography_body__9UBeQ typography_color-black__5LYEn typography_weight-regular__TWEnf typography_fontstyle-normal__kHyN3'}).text\n",
    "                    if len(review) > 2:\n",
    "                        output_writer.writerow([splitted[2], title, review])\n",
    "                except:\n",
    "                    pass\n",
    "\n",
    "with ThreadPoolExecutor(8) as ex:\n",
    "    with open('output.csv', 'w', newline='', encoding='ansi') as output_file:\n",
    "        output_writer = csv.writer(output_file)\n",
    "        output_writer.writerow(['Rating', 'title', 'review'])\n",
    "    ex.map(multithreadwritecsvfile, allPagesRequest)\n",
    "    \n",
    "    "
   ]
  },
  {
   "cell_type": "code",
   "execution_count": null,
   "metadata": {},
   "outputs": [],
   "source": []
  }
 ],
 "metadata": {
  "kernelspec": {
   "display_name": "Python 3",
   "language": "python",
   "name": "python3"
  },
  "language_info": {
   "codemirror_mode": {
    "name": "ipython",
    "version": 3
   },
   "file_extension": ".py",
   "mimetype": "text/x-python",
   "name": "python",
   "nbconvert_exporter": "python",
   "pygments_lexer": "ipython3",
   "version": "3.7.6"
  }
 },
 "nbformat": 4,
 "nbformat_minor": 5
}
