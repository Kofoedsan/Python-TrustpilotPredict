{
 "cells": [
  {
   "cell_type": "markdown",
   "metadata": {},
   "source": [
    "I dette projekt vil vi gøre det muligt, at forudsige en karakter fra 1-5 ud fra tekstindholdet i en anmeldelse på Trustpilot,\n",
    "og vise om sammenhængen af én virksomheds samlede vurdering passer mellem karakter og anmeldelser.\n",
    "Vi har tænkt os at gøre dette ved at scrape en masse andmeldelser fra forskellige virksomheder på Truspilot ved brug af selenium. Vi vil basere vores model ud fra de indsamlede data.\n",
    "\n",
    "Med vores model vil vi:\n",
    "\n",
    "1. Evaluére og fastslå hvor brugbar modellen er ved at sammenligne træningsdata- og valideringsdata.\n",
    "1a.Efterjustér modellens definition efter behov.\n",
    "\n",
    "\n",
    "\n",
    "2. Forudsige hvilken karakter en anmelder vil give ud fra den anmeldselse de har skrevet. (Regression)\n",
    "2a. Sammenlign med den aktuelle anmelder karakter.\n",
    "\n",
    "\n",
    "\n",
    "3. Vis sansynligheden for predictions indenfor Trustpilots fem katagorier: Fremragende, God, Middel, Uder middel, Dårlig, for en specifik anmeldelse. (Classification)\n",
    "\n",
    "\n",
    "\n",
    "4. Gruppere og plot ratings for én specifik virksomhed i et 3D feature space. (Clustering)\n",
    "\n",
    "\n",
    "\n",
    "5. Brug WordCloud til og plotte de mest anvendte Negative og Positive ord."
   ]
  },
  {
   "cell_type": "code",
   "execution_count": 1,
   "metadata": {},
   "outputs": [
    {
     "name": "stdout",
     "output_type": "stream",
     "text": [
      "OK\n",
      "4.8.2\n",
      "1.0\n",
      "2.23.0\n"
     ]
    }
   ],
   "source": [
    "#%pip install requests==2.27.1\n",
    "\n",
    "import bs4\n",
    "import csv\n",
    "import requests\n",
    "from concurrent.futures import ThreadPoolExecutor\n",
    "\n",
    "%matplotlib notebook\n",
    "\n",
    "print(\"OK\")\n",
    "\n",
    "print(bs4.__version__)\n",
    "print(csv.__version__)\n",
    "print(requests.__version__)\n"
   ]
  },
  {
   "cell_type": "code",
   "execution_count": 2,
   "metadata": {},
   "outputs": [
    {
     "name": "stdout",
     "output_type": "stream",
     "text": [
      "OK\n"
     ]
    }
   ],
   "source": [
    "allShopsRequest = []\n",
    "\n",
    "initUrl1 = \"https://dk.trustpilot.com/review/personligrevisor.dk\"\n",
    "initUrl2 = \"https://dk.trustpilot.com/review/am.dk\"\n",
    "\n",
    "allShopsRequest.append(initUrl1)\n",
    "allShopsRequest.append(initUrl2)\n",
    "\n",
    "print(\"OK\")\n"
   ]
  },
  {
   "cell_type": "code",
   "execution_count": 11,
   "metadata": {},
   "outputs": [
    {
     "name": "stdout",
     "output_type": "stream",
     "text": [
      "7\n"
     ]
    }
   ],
   "source": [
    "allPagesRequest = []\n",
    "\n",
    "def multiThreadDownload(shop):\n",
    "    listofpages=\"\"\n",
    "    totalpages=None\n",
    "    \n",
    "    re = requests.get(shop, timeout=10)\n",
    "    soup = bs4.BeautifulSoup(re.content, 'html.parser')\n",
    "    \n",
    "    try:      \n",
    "        totalpages = soup.find('a', attrs={'name':'pagination-button-last'}).text\n",
    "        \n",
    "    except:       \n",
    "        listofpages = [7,6,5,4,3,2,1]\n",
    "        try:\n",
    "            for content in listofpages:\n",
    "                totalpages = soup.find('a', attrs={'name':'pagination-button-'+str(content)}).text\n",
    "                if totalpages is not None:\n",
    "                    print(totalpages)\n",
    "                    break\n",
    "                \n",
    "        except:\n",
    "            print(\"Fejl for helvede!!!!\")\n",
    "    \n",
    "    for i in range(int(totalpages)):\n",
    "        i=i+1\n",
    "        url = shop+'?page='+str(i)\n",
    "        allPagesRequest.append(requests.get(url, timeout=10))\n",
    "\n",
    "with ThreadPoolExecutor(4) as ex:\n",
    "    ex.map(multiThreadDownload, allShopsRequest)\n"
   ]
  },
  {
   "cell_type": "code",
   "execution_count": 18,
   "metadata": {},
   "outputs": [
    {
     "name": "stdout",
     "output_type": "stream",
     "text": [
      "No review 'NoneType' object has no attribute 'text'\n",
      "No review 'NoneType' object has no attribute 'text'\n",
      "No review 'NoneType' object has no attribute 'text'\n",
      "No review 'NoneType' object has no attribute 'text'\n",
      "No review 'NoneType' object has no attribute 'text'\n",
      "No review No review 'NoneType' object has no attribute 'text'\n",
      "'NoneType' object has no attribute 'text'\n",
      "No review 'NoneType' object has no attribute 'text'\n",
      "No review 'NoneType' object has no attribute 'text'\n",
      "No review 'NoneType' object has no attribute 'text'\n",
      "No review 'NoneType' object has no attribute 'text'\n",
      "No review 'NoneType' object has no attribute 'text'\n",
      "No review 'NoneType' object has no attribute 'text'\n",
      "No review 'NoneType' object has no attribute 'text'\n",
      "No review 'NoneType' object has no attribute 'text'\n",
      "No review 'NoneType' object has no attribute 'text'\n",
      "No review 'NoneType' object has no attribute 'text'\n",
      "No review 'NoneType' object has no attribute 'text'\n",
      "No review 'NoneType' object has no attribute 'text'\n",
      "No review 'NoneType' object has no attribute 'text'\n",
      "No review 'NoneType' object has no attribute 'text'\n",
      "No reviewNo review 'NoneType' object has no attribute 'text'\n",
      "No review 'NoneType' object has no attribute 'text'\n",
      "No review 'NoneType' object has no attribute 'text'\n",
      " No review 'NoneType' object has no attribute 'text'\n",
      "No review 'NoneType' object has no attribute 'text'\n",
      "No review 'NoneType' object has no attribute 'text'\n",
      "No review 'NoneType' object has no attribute 'text'\n",
      "'NoneType' object has no attribute 'text'\n",
      "No reviewNo review 'NoneType' object has no attribute 'text'\n",
      " 'NoneType' object has no attribute 'text'\n",
      "No review 'NoneType' object has no attribute 'text'\n",
      "No review 'NoneType' object has no attribute 'text'No review\n",
      " No reviewNo reviewNo review 'NoneType' object has no attribute 'text'\n",
      "'NoneType' object has no attribute 'text'\n",
      "No review 'NoneType' object has no attribute 'text'\n",
      "No review 'NoneType' object has no attribute 'text'\n",
      "No review 'NoneType' object has no attribute 'text'\n",
      "No review 'NoneType' object has no attribute 'text'\n",
      " 'NoneType' object has no attribute 'text'\n",
      " 'NoneType' object has no attribute 'text'\n",
      "No review 'NoneType' object has no attribute 'text'\n",
      "No review 'NoneType' object has no attribute 'text'\n",
      "No review 'NoneType' object has no attribute 'text'\n",
      "No review 'NoneType' object has no attribute 'text'\n",
      "No review 'NoneType' object has no attribute 'text'\n",
      "No review 'NoneType' object has no attribute 'text'No review\n",
      "No review 'NoneType' object has no attribute 'text'\n",
      " 'NoneType' object has no attribute 'text'\n",
      "No review 'NoneType' object has no attribute 'text'\n",
      "No review 'NoneType' object has no attribute 'text'\n",
      "No review 'NoneType' object has no attribute 'text'\n",
      "No review 'NoneType' object has no attribute 'text'No review \n",
      "'NoneType' object has no attribute 'text'\n",
      "No review 'NoneType' object has no attribute 'text'\n",
      "No review 'NoneType' object has no attribute 'text'\n",
      "No review 'NoneType' object has no attribute 'text'\n",
      "No review 'NoneType' object has no attribute 'text'\n",
      "No reviewNo review 'NoneType' object has no attribute 'text'\n",
      " 'NoneType' object has no attribute 'text'\n",
      "No review 'NoneType' object has no attribute 'text'\n",
      "No review 'NoneType' object has no attribute 'text'\n",
      "No review 'NoneType' object has no attribute 'text'\n",
      "No review 'NoneType' object has no attribute 'text'\n"
     ]
    }
   ],
   "source": [
    "def multithreadwritecsvfile(page):\n",
    "        with open('output.csv', 'a', newline='', encoding='utf-8') as output_file:\n",
    "            output_writer = csv.writer(output_file)\n",
    "            beautistuff = bs4.BeautifulSoup(page.content,'html.parser')\n",
    "            for content in beautistuff.find_all('section', attrs={'class':'styles_reviewContentwrapper__zH_9M'}):\n",
    "                rating=None\n",
    "                splitted=None\n",
    "                title=None\n",
    "                review=None\n",
    "\n",
    "                try: \n",
    "                    rating = content.find('img',alt = True)\n",
    "                    splitted = rating.get('alt').split()\n",
    "                except Exception as e:\n",
    "                    print('No rating found. Skipping...', e)\n",
    "\n",
    "                try: \n",
    "                    title = content.find('a', attrs={'name':'review-title'}).text\n",
    "                except Exception as e:\n",
    "                    print('No title found. Skipping...', e)\n",
    "                try: \n",
    "                    review = content.find('p', attrs={'class':'typography_typography__QgicV typography_body__9UBeQ typography_color-black__5LYEn typography_weight-regular__TWEnf typography_fontstyle-normal__kHyN3'}).text\n",
    "                    if len(review) > 2:\n",
    "                        output_writer.writerow([splitted[2], title, review])\n",
    "                except Exception as e:\n",
    "                    print('No review found. Skipping...', e)\n",
    "\n",
    "with ThreadPoolExecutor(8) as ex:\n",
    "    with open('output.csv', 'w', newline='', encoding='utf-8') as output_file:\n",
    "        output_writer = csv.writer(output_file)\n",
    "        output_writer.writerow(['rating', 'title', 'review'])\n",
    "    ex.map(multithreadwritecsvfile, allPagesRequest)\n",
    "    \n",
    "    "
   ]
  }
 ],
 "metadata": {
  "kernelspec": {
   "display_name": "Python 3",
   "language": "python",
   "name": "python3"
  },
  "language_info": {
   "codemirror_mode": {
    "name": "ipython",
    "version": 3
   },
   "file_extension": ".py",
   "mimetype": "text/x-python",
   "name": "python",
   "nbconvert_exporter": "python",
   "pygments_lexer": "ipython3",
   "version": "3.7.6"
  }
 },
 "nbformat": 4,
 "nbformat_minor": 5
}
