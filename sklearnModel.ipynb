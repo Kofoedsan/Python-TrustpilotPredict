{
 "cells": [
  {
   "cell_type": "code",
   "execution_count": 1,
   "metadata": {},
   "outputs": [],
   "source": [
    "import pandas as pd\n",
    "\n",
    "from sklearn.feature_extraction.text import TfidfVectorizer\n",
    "from sklearn.model_selection import train_test_split\n",
    "from sklearn.svm import LinearSVC\n",
    "from sklearn.svm import SVC\n",
    "\n",
    "import pickle"
   ]
  },
  {
   "cell_type": "code",
   "execution_count": 2,
   "metadata": {},
   "outputs": [],
   "source": [
    "df = pd.read_csv(\"output.csv\")\n"
   ]
  },
  {
   "cell_type": "code",
   "execution_count": 3,
   "metadata": {},
   "outputs": [],
   "source": [
    "tfidf = TfidfVectorizer()\n",
    "\n",
    "x = df['review']\n",
    "y = df['rating']\n",
    "\n",
    "\n",
    "x = tfidf.fit_transform(x)"
   ]
  },
  {
   "cell_type": "code",
   "execution_count": 4,
   "metadata": {},
   "outputs": [],
   "source": [
    "x_train,x_test,y_train,y_test = train_test_split(x,y,test_size = 0.2, random_state=0)"
   ]
  },
  {
   "cell_type": "code",
   "execution_count": 5,
   "metadata": {},
   "outputs": [
    {
     "data": {
      "text/plain": [
       "SVC(C=1.0, break_ties=False, cache_size=200, class_weight=None, coef0=0.0,\n",
       "    decision_function_shape='ovr', degree=3, gamma='scale', kernel='rbf',\n",
       "    max_iter=-1, probability=True, random_state=32, shrinking=True, tol=0.001,\n",
       "    verbose=False)"
      ]
     },
     "execution_count": 5,
     "metadata": {},
     "output_type": "execute_result"
    }
   ],
   "source": [
    "#clf = LinearSVC(max_iter=10000, random_state=2)\n",
    "clf=SVC(kernel='rbf',probability=True, random_state=32, decision_function_shape='ovr')\n",
    "clf.fit(x_train,y_train)\n",
    "\n",
    "#Gemmer modellen i en fil der kan loades i stedet for trænes om og om igen\n",
    "#pickle.dump(clf,open('dbmodel','wb'))\n",
    "\n",
    "#with open('dbmodel', 'rb') as file:\n",
    "      \n",
    "#    clf = pickle.load(file)"
   ]
  },
  {
   "cell_type": "code",
   "execution_count": 6,
   "metadata": {},
   "outputs": [],
   "source": [
    "x1 = \"Utrolig dårlig service! Hold jer lang væk herfra\"\n",
    "\n",
    "x2 = \"Dejlig super super godt\"\n",
    "\n",
    "vec1 = tfidf.transform([x1])\n",
    "vec2 = tfidf.transform([x2])"
   ]
  },
  {
   "cell_type": "code",
   "execution_count": 7,
   "metadata": {},
   "outputs": [
    {
     "name": "stdout",
     "output_type": "stream",
     "text": [
      "['__label__1 ']\n",
      "['__label__5 ']\n"
     ]
    }
   ],
   "source": [
    "print(clf.predict(vec1))\n",
    "print(clf.predict(vec2))"
   ]
  },
  {
   "cell_type": "code",
   "execution_count": 8,
   "metadata": {},
   "outputs": [
    {
     "name": "stdout",
     "output_type": "stream",
     "text": [
      "['__label__1 ' '__label__2 ' '__label__3 ' '__label__4 ' '__label__5 ']\n",
      "[[0.7248726  0.05022592 0.05776372 0.0394498  0.12768795]]\n"
     ]
    }
   ],
   "source": [
    "print(clf.classes_)\n",
    "print(clf.predict_proba(vec1))"
   ]
  },
  {
   "cell_type": "code",
   "execution_count": null,
   "metadata": {},
   "outputs": [],
   "source": []
  }
 ],
 "metadata": {
  "kernelspec": {
   "display_name": "Python 3",
   "language": "python",
   "name": "python3"
  },
  "language_info": {
   "codemirror_mode": {
    "name": "ipython",
    "version": 3
   },
   "file_extension": ".py",
   "mimetype": "text/x-python",
   "name": "python",
   "nbconvert_exporter": "python",
   "pygments_lexer": "ipython3",
   "version": "3.7.6"
  }
 },
 "nbformat": 4,
 "nbformat_minor": 4
}
