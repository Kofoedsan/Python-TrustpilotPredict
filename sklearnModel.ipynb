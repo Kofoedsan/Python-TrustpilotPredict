{
 "cells": [
  {
   "cell_type": "code",
   "execution_count": 64,
   "metadata": {},
   "outputs": [],
   "source": [
    "import pandas as pd\n",
    "\n",
    "from sklearn.feature_extraction.text import TfidfVectorizer\n",
    "from sklearn.model_selection import train_test_split\n",
    "from sklearn.svm import LinearSVC\n",
    "from sklearn.svm import SVC\n",
    "\n",
    "from sklearn import svm, datasets\n",
    "import numpy as np\n",
    "\n",
    "import pickle\n",
    "\n",
    "import matplotlib.pyplot as plt\n",
    "plt.style.use('fivethirtyeight')"
   ]
  },
  {
   "cell_type": "code",
   "execution_count": 27,
   "metadata": {},
   "outputs": [
    {
     "data": {
      "text/html": [
       "<div>\n",
       "<style scoped>\n",
       "    .dataframe tbody tr th:only-of-type {\n",
       "        vertical-align: middle;\n",
       "    }\n",
       "\n",
       "    .dataframe tbody tr th {\n",
       "        vertical-align: top;\n",
       "    }\n",
       "\n",
       "    .dataframe thead th {\n",
       "        text-align: right;\n",
       "    }\n",
       "</style>\n",
       "<table border=\"1\" class=\"dataframe\">\n",
       "  <thead>\n",
       "    <tr style=\"text-align: right;\">\n",
       "      <th></th>\n",
       "      <th>rating</th>\n",
       "      <th>review</th>\n",
       "    </tr>\n",
       "  </thead>\n",
       "  <tbody>\n",
       "    <tr>\n",
       "      <th>0</th>\n",
       "      <td>__label__5</td>\n",
       "      <td>jeg elsker zaladnozalando har så mange forskel...</td>\n",
       "    </tr>\n",
       "    <tr>\n",
       "      <th>1</th>\n",
       "      <td>__label__4</td>\n",
       "      <td>handlet flere gange. gode produkter  nemt at b...</td>\n",
       "    </tr>\n",
       "    <tr>\n",
       "      <th>2</th>\n",
       "      <td>__label__5</td>\n",
       "      <td>alt til ug. billige priser. nem returnering. s...</td>\n",
       "    </tr>\n",
       "    <tr>\n",
       "      <th>3</th>\n",
       "      <td>__label__2</td>\n",
       "      <td>hej betalt min regning ( troede jeg) den var å...</td>\n",
       "    </tr>\n",
       "    <tr>\n",
       "      <th>4</th>\n",
       "      <td>__label__5</td>\n",
       "      <td>super godt.hurtig levering  og fine priser.</td>\n",
       "    </tr>\n",
       "  </tbody>\n",
       "</table>\n",
       "</div>"
      ],
      "text/plain": [
       "        rating                                             review\n",
       "0  __label__5   jeg elsker zaladnozalando har så mange forskel...\n",
       "1  __label__4   handlet flere gange. gode produkter  nemt at b...\n",
       "2  __label__5   alt til ug. billige priser. nem returnering. s...\n",
       "3  __label__2   hej betalt min regning ( troede jeg) den var å...\n",
       "4  __label__5         super godt.hurtig levering  og fine priser."
      ]
     },
     "execution_count": 27,
     "metadata": {},
     "output_type": "execute_result"
    }
   ],
   "source": [
    "df = pd.read_csv(\"output_lower.csv\", engine='python')\n",
    "df.head()"
   ]
  },
  {
   "cell_type": "code",
   "execution_count": 112,
   "metadata": {},
   "outputs": [
    {
     "name": "stdout",
     "output_type": "stream",
     "text": [
      "0       jeg elsker zaladnozalando har så mange forskel...\n",
      "1       handlet flere gange. gode produkter  nemt at b...\n",
      "2       alt til ug. billige priser. nem returnering. s...\n",
      "3       hej betalt min regning ( troede jeg) den var å...\n",
      "4             super godt.hurtig levering  og fine priser.\n",
      "                              ...                        \n",
      "5059    let at bestille  super hurtig levering  alt va...\n",
      "5060    lynhurtig ekspedition og levering også her til...\n",
      "5061    funktionsfejl efter godt et års brug- varen bl...\n",
      "5062    god service og hurtig leveringjeg bor i københ...\n",
      "5063    hurtig ekspeditionbestil om aftenen og modtag ...\n",
      "Name: review, Length: 5064, dtype: object\n",
      "  (0, 4)\t1.0\n",
      "  (1, 3)\t1.0\n",
      "  (2, 4)\t1.0\n",
      "  (3, 1)\t1.0\n",
      "  (4, 4)\t1.0\n",
      "  (5, 1)\t1.0\n",
      "  (6, 0)\t1.0\n",
      "  (7, 2)\t1.0\n",
      "  (8, 0)\t1.0\n",
      "  (9, 0)\t1.0\n",
      "  (10, 0)\t1.0\n",
      "  (11, 0)\t1.0\n",
      "  (12, 0)\t1.0\n",
      "  (13, 4)\t1.0\n",
      "  (14, 4)\t1.0\n",
      "  (15, 0)\t1.0\n",
      "  (16, 0)\t1.0\n",
      "  (17, 0)\t1.0\n",
      "  (18, 4)\t1.0\n",
      "  (19, 4)\t1.0\n",
      "  (20, 4)\t1.0\n",
      "  (21, 4)\t1.0\n",
      "  (22, 4)\t1.0\n",
      "  (23, 4)\t1.0\n",
      "  (24, 2)\t1.0\n",
      "  :\t:\n",
      "  (5039, 0)\t1.0\n",
      "  (5040, 0)\t1.0\n",
      "  (5041, 0)\t1.0\n",
      "  (5042, 4)\t1.0\n",
      "  (5043, 1)\t1.0\n",
      "  (5044, 4)\t1.0\n",
      "  (5045, 1)\t1.0\n",
      "  (5046, 4)\t1.0\n",
      "  (5047, 0)\t1.0\n",
      "  (5048, 4)\t1.0\n",
      "  (5049, 3)\t1.0\n",
      "  (5050, 0)\t1.0\n",
      "  (5051, 4)\t1.0\n",
      "  (5052, 0)\t1.0\n",
      "  (5053, 4)\t1.0\n",
      "  (5054, 4)\t1.0\n",
      "  (5055, 3)\t1.0\n",
      "  (5056, 4)\t1.0\n",
      "  (5057, 4)\t1.0\n",
      "  (5058, 4)\t1.0\n",
      "  (5059, 4)\t1.0\n",
      "  (5060, 4)\t1.0\n",
      "  (5061, 3)\t1.0\n",
      "  (5062, 4)\t1.0\n",
      "  (5063, 4)\t1.0\n"
     ]
    }
   ],
   "source": [
    "tfidf = TfidfVectorizer()\n",
    "\n",
    "x = df['review']\n",
    "y = df['rating']\n",
    "\n",
    "print(x)\n",
    "\n",
    "x = tfidf.fit_transform(x)\n",
    "y = tfidf.fit_transform(y)\n",
    "#print(x)\n",
    "print(y)"
   ]
  },
  {
   "cell_type": "code",
   "execution_count": 29,
   "metadata": {},
   "outputs": [],
   "source": [
    "x_train,x_test,y_train,y_test = train_test_split(x,y,test_size = 0.2, random_state=0)"
   ]
  },
  {
   "cell_type": "code",
   "execution_count": 30,
   "metadata": {},
   "outputs": [
    {
     "data": {
      "text/plain": [
       "SVC(C=1.0, break_ties=False, cache_size=200, class_weight=None, coef0=0.0,\n",
       "    decision_function_shape='ovr', degree=3, gamma='scale', kernel='rbf',\n",
       "    max_iter=-1, probability=True, random_state=32, shrinking=True, tol=0.001,\n",
       "    verbose=False)"
      ]
     },
     "execution_count": 30,
     "metadata": {},
     "output_type": "execute_result"
    }
   ],
   "source": [
    "#clf = LinearSVC(max_iter=10000, random_state=2)\n",
    "clf=SVC(kernel='rbf',probability=True, random_state=32, decision_function_shape='ovr')\n",
    "clf.fit(x_train,y_train)\n",
    "\n",
    "#Gemmer modellen i en fil der kan loades i stedet for trænes om og om igen\n",
    "#pickle.dump(clf,open('dbmodel','wb'))\n",
    "\n",
    "#with open('dbmodel', 'rb') as file:\n",
    "      \n",
    "#    clf = pickle.load(file)"
   ]
  },
  {
   "cell_type": "code",
   "execution_count": 56,
   "metadata": {},
   "outputs": [],
   "source": [
    "x1 = \"utrolig utrolig dårlig service! hold jer lang væk herfra !\"\n",
    "\n",
    "x2 = \"dejlig super super godt\"\n",
    "\n",
    "x3 = \"fik det jeg bestilte inden for 2 dage. kan helt klart anbefale proshop \"\n",
    "\n",
    "#x4 = \"Lidt bøvlet at bestille, men hurtig levering. Bestilte et fingertouch sikkert panzerglas med til min nye mobil, med det er 200 kr smidt ud af vinduet for efter at have monteret det, kan mobilen ikke åbne med fingeraftryk mere, så er kun mellemtilfreds med mit køb\"\n",
    "\n",
    "vec1 = tfidf.transform([x1])\n",
    "vec2 = tfidf.transform([x2])\n",
    "vec3 = tfidf.transform([x3])\n",
    "#vec4 = tfidf.transform([x4])"
   ]
  },
  {
   "cell_type": "code",
   "execution_count": 57,
   "metadata": {},
   "outputs": [
    {
     "name": "stdout",
     "output_type": "stream",
     "text": [
      "['__label__1 ']\n",
      "['__label__5 ']\n",
      "['__label__5 ']\n",
      "['__label__5 ']\n"
     ]
    }
   ],
   "source": [
    "print(clf.predict(vec1))\n",
    "print(clf.predict(vec2))\n",
    "print(clf.predict(vec3))\n",
    "#print(clf.predict(vec4))"
   ]
  },
  {
   "cell_type": "code",
   "execution_count": 42,
   "metadata": {},
   "outputs": [
    {
     "name": "stdout",
     "output_type": "stream",
     "text": [
      "['__label__1 ' '__label__2 ' '__label__3 ' '__label__4 ' '__label__5 ']\n",
      "[[0.62764618 0.1406052  0.04410731 0.05284965 0.13479166]]\n"
     ]
    }
   ],
   "source": [
    "print(clf.classes_)\n",
    "print(clf.predict_proba(vec1))"
   ]
  },
  {
   "cell_type": "code",
   "execution_count": 45,
   "metadata": {},
   "outputs": [
    {
     "name": "stdout",
     "output_type": "stream",
     "text": [
      "['__label__1 ' '__label__2 ' '__label__3 ' '__label__4 ' '__label__5 ']\n",
      "[[2.07710364e-04 4.66774085e-04 1.01343698e-03 4.24403320e-02\n",
      "  9.55871747e-01]]\n"
     ]
    }
   ],
   "source": [
    "print(clf.classes_)\n",
    "print(clf.predict_proba(vec2))"
   ]
  },
  {
   "cell_type": "code",
   "execution_count": 51,
   "metadata": {
    "scrolled": false
   },
   "outputs": [
    {
     "name": "stdout",
     "output_type": "stream",
     "text": [
      "['__label__1 ' '__label__2 ' '__label__3 ' '__label__4 ' '__label__5 ']\n",
      "[[0.00328414 0.00482284 0.01508196 0.69121067 0.28560038]]\n"
     ]
    }
   ],
   "source": [
    "print(clf.classes_)\n",
    "print(clf.predict_proba(vec3))"
   ]
  }
 ],
 "metadata": {
  "kernelspec": {
   "display_name": "Python 3",
   "language": "python",
   "name": "python3"
  },
  "language_info": {
   "codemirror_mode": {
    "name": "ipython",
    "version": 3
   },
   "file_extension": ".py",
   "mimetype": "text/x-python",
   "name": "python",
   "nbconvert_exporter": "python",
   "pygments_lexer": "ipython3",
   "version": "3.7.6"
  }
 },
 "nbformat": 4,
 "nbformat_minor": 4
}
