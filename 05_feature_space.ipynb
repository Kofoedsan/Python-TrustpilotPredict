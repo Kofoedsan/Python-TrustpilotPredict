{
 "cells": [
  {
   "cell_type": "markdown",
   "metadata": {},
   "source": [
    "# 05 Feature space"
   ]
  },
  {
   "cell_type": "markdown",
   "metadata": {},
   "source": [
    "## TODO\n",
    "\n",
    "- Sæt labels på x og y aksen\n",
    "- QOL lav nearst neighbor lidt pænere"
   ]
  },
  {
   "cell_type": "code",
   "execution_count": 1,
   "metadata": {},
   "outputs": [],
   "source": [
    "import pandas as pd\n",
    "import numpy as np\n",
    "import matplotlib.pyplot as plt\n",
    "import fasttext\n",
    "\n",
    "from sklearn.cluster import KMeans\n",
    "from sklearn.decomposition import PCA\n",
    "from mpl_toolkits.mplot3d import Axes3D\n",
    "\n",
    "from tabulate import tabulate"
   ]
  },
  {
   "cell_type": "code",
   "execution_count": 2,
   "metadata": {},
   "outputs": [
    {
     "name": "stderr",
     "output_type": "stream",
     "text": [
      "Warning : `load_model` does not return WordVectorModel or SupervisedModel any more, but a `FastText` object which is very similar.\n"
     ]
    }
   ],
   "source": [
    "data = pd.read_csv('./data/sklearn.csv')\n",
    "\n",
    "model = fasttext.load_model('./data/fasttext_trained_model.bin')\n",
    "data['vec'] = data['review'].apply(lambda x: model.get_sentence_vector(x))"
   ]
  },
  {
   "cell_type": "code",
   "execution_count": 99,
   "metadata": {},
   "outputs": [
    {
     "name": "stdout",
     "output_type": "stream",
     "text": [
      "dårlig\n",
      "fedt\n",
      "dårlig\n",
      "fedt\n",
      "{'Title_1': [[(0.9993193745613098, 'd.'), (0.9987528324127197, ',Elendig'), (0.9984056353569031, 'bliver'), (0.9982389211654663, 'må'), (0.997963547706604, 'ringer'), (0.997402012348175, 'selvom'), (0.997389554977417, 'firma'), (0.9972306489944458, 'ALDRIG'), (0.9971181750297546, 'mails'), (0.996974527835846, 'pludselig')], [(0.9766262173652649, 'leverings'), (0.976620614528656, 'fint.'), (0.9755644798278809, 'præcis'), (0.9727078676223755, ',Fin'), (0.9717280268669128, 'leveringstid'), (0.9717122316360474, ',Nem'), (0.9715535640716553, 'dog'), (0.971206545829773, 'returlabel'), (0.9710429906845093, 'rimelig'), (0.9687397480010986, 'pakker.')], [(0.9993193745613098, 'd.'), (0.9987528324127197, ',Elendig'), (0.9984056353569031, 'bliver'), (0.9982389211654663, 'må'), (0.997963547706604, 'ringer'), (0.997402012348175, 'selvom'), (0.997389554977417, 'firma'), (0.9972306489944458, 'ALDRIG'), (0.9971181750297546, 'mails'), (0.996974527835846, 'pludselig')], [(0.9766262173652649, 'leverings'), (0.976620614528656, 'fint.'), (0.9755644798278809, 'præcis'), (0.9727078676223755, ',Fin'), (0.9717280268669128, 'leveringstid'), (0.9717122316360474, ',Nem'), (0.9715535640716553, 'dog'), (0.971206545829773, 'returlabel'), (0.9710429906845093, 'rimelig'), (0.9687397480010986, 'pakker.')]], 'Title_2': []}\n"
     ]
    }
   ],
   "source": [
    "def nearest_neighbours(*args):\n",
    "    numbers_of_args= len(args)\n",
    "    \n",
    "    listDict = {}\n",
    "    for i in range(1, numbers_of_args+1 ):\n",
    "        listDict[\"Title_\"+str(i)] = []\n",
    "    \n",
    "        for a in args:\n",
    "            print(a[:])\n",
    "            listDict[\"Title_\"+str(1)].append(model.get_nearest_neighbors(a[: :1]))\n",
    "#     title={}\n",
    "#     neighbours=[]\n",
    "#     words=[]\n",
    "    \n",
    "#     for t in range(len(args)):\n",
    "#         title[\"args{0}\".format(t)] = []\n",
    "      \n",
    "\n",
    "    \n",
    "#     for k in neighbours[0]:\n",
    "#         words.append(k)\n",
    "        \n",
    "#     print(words)\n",
    "#     print(len(neighbours))\n",
    "    print(listDict)\n",
    "      \n",
    "nearest_neighbours(\"dårlig\", \"fedt\")"
   ]
  },
  {
   "cell_type": "code",
   "execution_count": 85,
   "metadata": {},
   "outputs": [
    {
     "data": {
      "text/html": [
       "<div>\n",
       "<style scoped>\n",
       "    .dataframe tbody tr th:only-of-type {\n",
       "        vertical-align: middle;\n",
       "    }\n",
       "\n",
       "    .dataframe tbody tr th {\n",
       "        vertical-align: top;\n",
       "    }\n",
       "\n",
       "    .dataframe thead th {\n",
       "        text-align: right;\n",
       "    }\n",
       "</style>\n",
       "<table border=\"1\" class=\"dataframe\">\n",
       "  <thead>\n",
       "    <tr style=\"text-align: right;\">\n",
       "      <th></th>\n",
       "      <th>dårlig</th>\n",
       "      <th>nogenlunde</th>\n",
       "      <th>penge</th>\n",
       "    </tr>\n",
       "  </thead>\n",
       "  <tbody>\n",
       "    <tr>\n",
       "      <th>0</th>\n",
       "      <td>d.</td>\n",
       "      <td>Samtidigt</td>\n",
       "      <td>nu</td>\n",
       "    </tr>\n",
       "    <tr>\n",
       "      <th>1</th>\n",
       "      <td>,Elendig</td>\n",
       "      <td>kritik!</td>\n",
       "      <td>intet</td>\n",
       "    </tr>\n",
       "    <tr>\n",
       "      <th>2</th>\n",
       "      <td>bliver</td>\n",
       "      <td>inkasso</td>\n",
       "      <td>vi</td>\n",
       "    </tr>\n",
       "    <tr>\n",
       "      <th>3</th>\n",
       "      <td>må</td>\n",
       "      <td>steder.</td>\n",
       "      <td>kundeservice</td>\n",
       "    </tr>\n",
       "    <tr>\n",
       "      <th>4</th>\n",
       "      <td>ringer</td>\n",
       "      <td>kontakte</td>\n",
       "      <td>igen.</td>\n",
       "    </tr>\n",
       "    <tr>\n",
       "      <th>5</th>\n",
       "      <td>selvom</td>\n",
       "      <td>App</td>\n",
       "      <td>trukket</td>\n",
       "    </tr>\n",
       "    <tr>\n",
       "      <th>6</th>\n",
       "      <td>firma</td>\n",
       "      <td>tre</td>\n",
       "      <td>modtaget</td>\n",
       "    </tr>\n",
       "    <tr>\n",
       "      <th>7</th>\n",
       "      <td>ALDRIG</td>\n",
       "      <td>varer.</td>\n",
       "      <td>jer</td>\n",
       "    </tr>\n",
       "    <tr>\n",
       "      <th>8</th>\n",
       "      <td>mails</td>\n",
       "      <td>saga</td>\n",
       "      <td>ja</td>\n",
       "    </tr>\n",
       "    <tr>\n",
       "      <th>9</th>\n",
       "      <td>pludselig</td>\n",
       "      <td>reserveret</td>\n",
       "      <td>ingen</td>\n",
       "    </tr>\n",
       "  </tbody>\n",
       "</table>\n",
       "</div>"
      ],
      "text/plain": [
       "      dårlig  nogenlunde         penge\n",
       "0         d.   Samtidigt            nu\n",
       "1   ,Elendig     kritik!         intet\n",
       "2     bliver     inkasso            vi\n",
       "3         må     steder.  kundeservice\n",
       "4     ringer    kontakte         igen.\n",
       "5     selvom         App       trukket\n",
       "6      firma         tre      modtaget\n",
       "7     ALDRIG      varer.           jer\n",
       "8      mails        saga            ja\n",
       "9  pludselig  reserveret         ingen"
      ]
     },
     "execution_count": 85,
     "metadata": {},
     "output_type": "execute_result"
    }
   ],
   "source": [
    "def nearest_neighbors(arg1, arg2, arg3):\n",
    "    title1 = arg1\n",
    "    title2 = arg2\n",
    "    title3 = arg3\n",
    "    a=[] \n",
    "    b=[] \n",
    "    c=[]\n",
    "    arg1 = model.get_nearest_neighbors(arg1)\n",
    "    arg2 = model.get_nearest_neighbors(arg2)\n",
    "    arg3 = model.get_nearest_neighbors(arg3)\n",
    "    for k, v in arg1:\n",
    "        a.append(v)\n",
    "    \n",
    "    for k, v in arg2:\n",
    "        b.append(v)\n",
    "    \n",
    "    for k, v in arg3:\n",
    "        c.append(v)\n",
    "    nearest_neighbors_list = pd.DataFrame(\n",
    "    {\n",
    "    title1: a,\n",
    "    title2: b,\n",
    "    title3: c\n",
    "    }) \n",
    "    return nearest_neighbors_list.head(10)  \n",
    "    \n",
    "nearest_neighbors('dårlig', 'nogenlunde', 'penge')"
   ]
  },
  {
   "cell_type": "code",
   "execution_count": null,
   "metadata": {},
   "outputs": [],
   "source": [
    "# print('choose three words')\n",
    "# en = input()\n",
    "# to = input()\n",
    "# tre= input()\n",
    "\n",
    "# nearest_neighbors(en, to, tre)"
   ]
  },
  {
   "cell_type": "code",
   "execution_count": null,
   "metadata": {},
   "outputs": [],
   "source": [
    "kmeans = KMeans(n_clusters=5)\n",
    "data['cluster'] = kmeans.fit_predict(data['vec'].values.tolist())"
   ]
  },
  {
   "cell_type": "code",
   "execution_count": null,
   "metadata": {},
   "outputs": [],
   "source": [
    "pca = PCA(n_components=3)\n",
    "data['x'] = pca.fit_transform(data['vec'].values.tolist())[:,0]\n",
    "data['y'] = pca.fit_transform(data['vec'].values.tolist())[:,1]\n",
    "data['z'] = pca.fit_transform(data['vec'].values.tolist())[:,2]\n",
    "\n",
    "scatter = plt.scatter(data['x'], data['y'], c=data['cluster'], cmap='rainbow', alpha=0.5)\n",
    "\n",
    "# dc = data_cluster\n",
    "# cc = cluster_colors\n",
    "# cl = cluster_labels\n",
    "print(data['cluster'].value_counts())\n",
    "dc = data['cluster'].value_counts()\n",
    "dc = -np.sort(-dc)\n",
    "cc = data['cluster'].value_counts().index.tolist()\n",
    "\n",
    "cl = []\n",
    "for i in model.labels:\n",
    "    cl.append(i.replace('__',''))\n",
    "\n",
    "handles = scatter.legend_elements(num=cc)[0]  # extract the handles from the existing scatter plot\n",
    "\n",
    "plt.legend(title='Ratings', handles=handles,  \n",
    "           labels=[cl[0]+' '+str(dc[0]),\n",
    "                   cl[1]+' '+str(dc[1]),\n",
    "                   cl[2]+' '+str(dc[2]),\n",
    "                   cl[3]+' '+str(dc[3]),\n",
    "                   cl[4]+' '+str(dc[4])])"
   ]
  },
  {
   "cell_type": "code",
   "execution_count": null,
   "metadata": {},
   "outputs": [],
   "source": [
    "fig = plt.figure(1, figsize=(10,10))\n",
    "ax = Axes3D(fig, rect=[0, 0, 0.95, 1], elev=48, azim=134)\n",
    "ax.scatter(data['x'],data['y'],data['z'], c=data['cluster'], cmap='rainbow', alpha=0.5)\n",
    "ax.set_xlabel(\"x\")\n",
    "ax.set_ylabel(\"y\")\n",
    "ax.set_zlabel(\"z\")\n",
    "ax.set_facecolor('white')\n",
    "plt.title(\"Review Clustering using K Means\", fontsize=14)\n",
    "plt.legend(title='Classes', handles=handles, \n",
    "           labels=[cl[0]+' '+str(dc[0]),\n",
    "                   cl[1]+' '+str(dc[1]),\n",
    "                   cl[2]+' '+str(dc[2]),\n",
    "                   cl[3]+' '+str(dc[3]),\n",
    "                   cl[4]+' '+str(dc[4])])"
   ]
  },
  {
   "cell_type": "code",
   "execution_count": null,
   "metadata": {},
   "outputs": [],
   "source": []
  }
 ],
 "metadata": {
  "interpreter": {
   "hash": "d4d1e4263499bec80672ea0156c357c1ee493ec2b1c70f0acce89fc37c4a6abe"
  },
  "kernelspec": {
   "display_name": "Python 3",
   "language": "python",
   "name": "python3"
  },
  "language_info": {
   "codemirror_mode": {
    "name": "ipython",
    "version": 3
   },
   "file_extension": ".py",
   "mimetype": "text/x-python",
   "name": "python",
   "nbconvert_exporter": "python",
   "pygments_lexer": "ipython3",
   "version": "3.7.6"
  }
 },
 "nbformat": 4,
 "nbformat_minor": 2
}
