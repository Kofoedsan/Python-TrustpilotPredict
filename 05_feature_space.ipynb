{
 "cells": [
  {
   "cell_type": "markdown",
   "metadata": {},
   "source": [
    "# 05 Feature space"
   ]
  },
  {
   "cell_type": "markdown",
   "metadata": {},
   "source": [
    "## TODO\n",
    "\n",
    "- Sæt labels på x og y aksen"
   ]
  },
  {
   "cell_type": "code",
   "execution_count": 3,
   "metadata": {},
   "outputs": [],
   "source": [
    "import pandas as pd\n",
    "import numpy as np\n",
    "import matplotlib.pyplot as plt\n",
    "import fasttext\n",
    "\n",
    "from sklearn.cluster import KMeans\n",
    "from sklearn.decomposition import PCA\n",
    "from mpl_toolkits.mplot3d import Axes3D\n",
    "\n",
    "from tabulate import tabulate"
   ]
  },
  {
   "cell_type": "code",
   "execution_count": 4,
   "metadata": {},
   "outputs": [
    {
     "name": "stderr",
     "output_type": "stream",
     "text": [
      "Warning : `load_model` does not return WordVectorModel or SupervisedModel any more, but a `FastText` object which is very similar.\n"
     ]
    }
   ],
   "source": [
    "data = pd.read_csv('./data/sklearn.csv')\n",
    "\n",
    "model = fasttext.load_model('./data/fasttext_trained_model.bin')\n",
    "data['vec'] = data['review'].apply(lambda x: model.get_sentence_vector(x))"
   ]
  },
  {
   "cell_type": "code",
   "execution_count": 5,
   "metadata": {
    "scrolled": true
   },
   "outputs": [
    {
     "data": {
      "text/html": [
       "<div>\n",
       "<style scoped>\n",
       "    .dataframe tbody tr th:only-of-type {\n",
       "        vertical-align: middle;\n",
       "    }\n",
       "\n",
       "    .dataframe tbody tr th {\n",
       "        vertical-align: top;\n",
       "    }\n",
       "\n",
       "    .dataframe thead th {\n",
       "        text-align: right;\n",
       "    }\n",
       "</style>\n",
       "<table border=\"1\" class=\"dataframe\">\n",
       "  <thead>\n",
       "    <tr style=\"text-align: right;\">\n",
       "      <th></th>\n",
       "      <th>Penge</th>\n",
       "      <th>Dårlig</th>\n",
       "      <th>forskellige</th>\n",
       "      <th>ubehagelig</th>\n",
       "    </tr>\n",
       "  </thead>\n",
       "  <tbody>\n",
       "    <tr>\n",
       "      <th>0</th>\n",
       "      <td>anmelde</td>\n",
       "      <td>originale</td>\n",
       "      <td>,Lang</td>\n",
       "      <td>mangle</td>\n",
       "    </tr>\n",
       "    <tr>\n",
       "      <th>1</th>\n",
       "      <td>rydde</td>\n",
       "      <td>stjerner.</td>\n",
       "      <td>Stor</td>\n",
       "      <td>bankoverførsel.</td>\n",
       "    </tr>\n",
       "    <tr>\n",
       "      <th>2</th>\n",
       "      <td>ønskeliste</td>\n",
       "      <td>syningen</td>\n",
       "      <td>Der</td>\n",
       "      <td>fleece</td>\n",
       "    </tr>\n",
       "    <tr>\n",
       "      <th>3</th>\n",
       "      <td>webshops.Har</td>\n",
       "      <td>spammail</td>\n",
       "      <td>jævne</td>\n",
       "      <td>skrald</td>\n",
       "    </tr>\n",
       "    <tr>\n",
       "      <th>4</th>\n",
       "      <td>tider.</td>\n",
       "      <td>,Man</td>\n",
       "      <td>besværligt</td>\n",
       "      <td>dårligste</td>\n",
       "    </tr>\n",
       "    <tr>\n",
       "      <th>5</th>\n",
       "      <td>,Der</td>\n",
       "      <td>seks</td>\n",
       "      <td>fem</td>\n",
       "      <td>Jylland</td>\n",
       "    </tr>\n",
       "    <tr>\n",
       "      <th>6</th>\n",
       "      <td>leverer</td>\n",
       "      <td>montage.Det</td>\n",
       "      <td>med.</td>\n",
       "      <td>stiger</td>\n",
       "    </tr>\n",
       "    <tr>\n",
       "      <th>7</th>\n",
       "      <td>forsendelse!Har</td>\n",
       "      <td>pakkeservice</td>\n",
       "      <td>vask</td>\n",
       "      <td>rent</td>\n",
       "    </tr>\n",
       "    <tr>\n",
       "      <th>8</th>\n",
       "      <td>plejer</td>\n",
       "      <td>dårligt.</td>\n",
       "      <td>sædvanligt.</td>\n",
       "      <td>Enten</td>\n",
       "    </tr>\n",
       "    <tr>\n",
       "      <th>9</th>\n",
       "      <td>sandsynligt</td>\n",
       "      <td>placerer</td>\n",
       "      <td>rykkeren</td>\n",
       "      <td>kassen</td>\n",
       "    </tr>\n",
       "  </tbody>\n",
       "</table>\n",
       "</div>"
      ],
      "text/plain": [
       "             Penge        Dårlig  forskellige       ubehagelig\n",
       "0          anmelde     originale        ,Lang           mangle\n",
       "1            rydde     stjerner.         Stor  bankoverførsel.\n",
       "2       ønskeliste      syningen          Der           fleece\n",
       "3     webshops.Har      spammail        jævne           skrald\n",
       "4           tider.          ,Man   besværligt        dårligste\n",
       "5             ,Der          seks          fem          Jylland\n",
       "6          leverer   montage.Det         med.           stiger\n",
       "7  forsendelse!Har  pakkeservice         vask             rent\n",
       "8           plejer      dårligt.  sædvanligt.            Enten\n",
       "9      sandsynligt      placerer     rykkeren           kassen"
      ]
     },
     "execution_count": 5,
     "metadata": {},
     "output_type": "execute_result"
    }
   ],
   "source": [
    "def nearest_neighbours(*args):\n",
    "    numbers_of_args= len(args)\n",
    "    listDict = {}   \n",
    "    \n",
    "    words_lists = [[] for i in range(1, numbers_of_args +1 )]\n",
    "    \n",
    "    for i in range(1, numbers_of_args+1 ):\n",
    "        listDict[\"Title_\"+str(i)] = []\n",
    "    \n",
    "    count = 1\n",
    "    while count < numbers_of_args+1:\n",
    "       \n",
    "        for a in args[count-1:count]:\n",
    "            listDict[\"Title_\"+str(count)].append(model.get_nearest_neighbors(a))\n",
    "            count += 1 \n",
    "            break\n",
    "            \n",
    "            \n",
    "    count = 0        \n",
    "    last_counter = 0  \n",
    "    new_count = 0\n",
    "    \n",
    "    \n",
    "    while last_counter < numbers_of_args:\n",
    "        \n",
    "        values = [v for k, v in listDict.items()]\n",
    "        next_one = values[last_counter][0]\n",
    "       \n",
    "        while new_count <= (numbers_of_args * 10):\n",
    "            \n",
    "            for k, v in (next_one):\n",
    "                words_lists[count].append(v)\n",
    "                new_count += 1\n",
    "\n",
    "            break      \n",
    "        count +=1\n",
    "        last_counter +=1\n",
    "        df = pd.DataFrame(list(zip(*words_lists[0:])), columns=args)\n",
    "                             \n",
    "    return df\n",
    "\n",
    "nearest_neighbours(\"Penge\", \"Dårlig\", \"forskellige\", \"ubehagelig\")"
   ]
  },
  {
   "cell_type": "code",
   "execution_count": null,
   "metadata": {},
   "outputs": [],
   "source": [
    "kmeans = KMeans(n_clusters=5)\n",
    "data['cluster'] = kmeans.fit_predict(data['vec'].values.tolist())"
   ]
  },
  {
   "cell_type": "code",
   "execution_count": null,
   "metadata": {},
   "outputs": [],
   "source": [
    "pca = PCA(n_components=3)\n",
    "data['x'] = pca.fit_transform(data['vec'].values.tolist())[:,0]\n",
    "data['y'] = pca.fit_transform(data['vec'].values.tolist())[:,1]\n",
    "data['z'] = pca.fit_transform(data['vec'].values.tolist())[:,2]\n",
    "\n",
    "scatter = plt.scatter(data['x'], data['y'], c=data['cluster'], cmap='rainbow', alpha=0.5)\n",
    "\n",
    "# dc = data_cluster\n",
    "# cc = cluster_colors\n",
    "# cl = cluster_labels\n",
    "print(data['cluster'].value_counts())\n",
    "dc = data['cluster'].value_counts()\n",
    "dc = -np.sort(-dc)\n",
    "cc = data['cluster'].value_counts().index.tolist()\n",
    "\n",
    "cl = []\n",
    "for i in model.labels:\n",
    "    cl.append(i.replace('__',''))\n",
    "\n",
    "handles = scatter.legend_elements(num=cc)[0]  # extract the handles from the existing scatter plot\n",
    "\n",
    "plt.legend(title='Ratings', handles=handles,  \n",
    "           labels=[cl[0]+' '+str(dc[0]),\n",
    "                   cl[1]+' '+str(dc[1]),\n",
    "                   cl[2]+' '+str(dc[2]),\n",
    "                   cl[3]+' '+str(dc[3]),\n",
    "                   cl[4]+' '+str(dc[4])])"
   ]
  },
  {
   "cell_type": "code",
   "execution_count": null,
   "metadata": {},
   "outputs": [],
   "source": [
    "fig = plt.figure(1, figsize=(10,10))\n",
    "ax = Axes3D(fig, rect=[0, 0, 0.95, 1], elev=48, azim=134)\n",
    "ax.scatter(data['x'],data['y'],data['z'], c=data['cluster'], cmap='rainbow', alpha=0.5)\n",
    "ax.set_xlabel(\"x\")\n",
    "ax.set_ylabel(\"y\")\n",
    "ax.set_zlabel(\"z\")\n",
    "ax.set_facecolor('white')\n",
    "plt.title(\"Review Clustering using K Means\", fontsize=14)\n",
    "plt.legend(title='Classes', handles=handles, \n",
    "           labels=[cl[0]+' '+str(dc[0]),\n",
    "                   cl[1]+' '+str(dc[1]),\n",
    "                   cl[2]+' '+str(dc[2]),\n",
    "                   cl[3]+' '+str(dc[3]),\n",
    "                   cl[4]+' '+str(dc[4])])"
   ]
  }
 ],
 "metadata": {
  "interpreter": {
   "hash": "d4d1e4263499bec80672ea0156c357c1ee493ec2b1c70f0acce89fc37c4a6abe"
  },
  "kernelspec": {
   "display_name": "Python 3",
   "language": "python",
   "name": "python3"
  },
  "language_info": {
   "codemirror_mode": {
    "name": "ipython",
    "version": 3
   },
   "file_extension": ".py",
   "mimetype": "text/x-python",
   "name": "python",
   "nbconvert_exporter": "python",
   "pygments_lexer": "ipython3",
   "version": "3.7.6"
  }
 },
 "nbformat": 4,
 "nbformat_minor": 2
}
