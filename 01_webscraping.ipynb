{
 "cells": [
  {
   "cell_type": "markdown",
   "metadata": {},
   "source": [
    "# 01 Webscraping"
   ]
  },
  {
   "cell_type": "code",
   "execution_count": null,
   "metadata": {},
   "outputs": [],
   "source": [
    "#%pip install requests==2.27.1"
   ]
  },
  {
   "cell_type": "code",
   "execution_count": null,
   "metadata": {},
   "outputs": [],
   "source": [
    "import bs4\n",
    "import csv\n",
    "import requests\n",
    "import re\n",
    "from concurrent.futures import ThreadPoolExecutor\n",
    "from tqdm.notebook import tqdm\n",
    "import random\n",
    "import pickle\n",
    "\n",
    "workingProxyList=[]\n",
    "allShopsRequest = []"
   ]
  },
  {
   "cell_type": "code",
   "execution_count": null,
   "metadata": {},
   "outputs": [],
   "source": [
    "\n",
    "\n",
    "#allShopsRequest.append(\"https://dk.trustpilot.com/review/www.proshop.dk\")\n",
    "allShopsRequest.append(\"https://dk.trustpilot.com/review/www.elgiganten.dk\")\n",
    "#allShopsRequest.append(\"https://dk.trustpilot.com/review/power.dk\")\n",
    "#allShopsRequest.append(\"https://dk.trustpilot.com/review/www.yousee.dk\")\n",
    "#allShopsRequest.append(\"https://dk.trustpilot.com/review/www.telenor.dk\")\n",
    "\n",
    "print(\"OK\")\n"
   ]
  },
  {
   "cell_type": "code",
   "execution_count": null,
   "metadata": {},
   "outputs": [],
   "source": [
    "totalpageprShop=[]\n",
    "\n",
    "def multiThreadGetTotalPages(shop):\n",
    "    loadingbar.update(1)\n",
    "    listofpages=\"\"\n",
    "    totalpages=None\n",
    "    req = requests.get(shop, timeout=10)\n",
    "    soup = bs4.BeautifulSoup(req.content, 'html.parser')\n",
    "    \n",
    "    try:      \n",
    "        totalpages = soup.find('a', attrs={'name':'pagination-button-last'}).text\n",
    "        shopAndPage = {'shop': shop,'pages': totalpages}\n",
    "        totalpageprShop.append(shopAndPage)\n",
    "    except:       \n",
    "        listofpages = [7,6,5,4,3,2,1]\n",
    "        try:\n",
    "            for content in listofpages:\n",
    "                totalpages = soup.find('a', attrs={'name':'pagination-button-'+str(content)}).text\n",
    "                if totalpages is not None:\n",
    "                    print('Amount of review pages found:', totalpages)\n",
    "                    shopAndPage = {'shop': shop,'pages': totalpages}\n",
    "                    totalpageprShop.append(shopAndPage)\n",
    "                    break\n",
    "                \n",
    "        except Exception as e:\n",
    "            print('Error', e)\n",
    " \n",
    "        \n",
    "with tqdm(total=len(allShopsRequest)) as loadingbar: \n",
    "    with ThreadPoolExecutor(2) as ex:\n",
    "        ex.map(multiThreadGetTotalPages, allShopsRequest)"
   ]
  }
 ],
 "metadata": {
  "kernelspec": {
   "display_name": "Python 3",
   "language": "python",
   "name": "python3"
  },
  "language_info": {
   "codemirror_mode": {
    "name": "ipython",
    "version": 3
   },
   "file_extension": ".py",
   "mimetype": "text/x-python",
   "name": "python",
   "nbconvert_exporter": "python",
   "pygments_lexer": "ipython3",
   "version": "3.7.6"
  }
 },
 "nbformat": 4,
 "nbformat_minor": 4
}
