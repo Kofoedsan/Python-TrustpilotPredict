{
 "cells": [
  {
   "cell_type": "markdown",
   "metadata": {},
   "source": [
    "# 02 Models\n",
    "\n",
    "#### Træn & sammenlign fasttext med sklearn på samme dataset og se hvilken model der er mest præcis."
   ]
  },
  {
   "cell_type": "code",
   "execution_count": 3,
   "metadata": {},
   "outputs": [],
   "source": [
    "import pandas as pd\n",
    "import fasttext\n",
    "\n",
    "from sklearn.feature_extraction.text import TfidfVectorizer\n",
    "from sklearn.model_selection import train_test_split\n",
    "from sklearn.svm import SVC\n",
    "\n",
    "from tabulate import tabulate\n",
    "\n",
    "#Term Frequency — Inverse Document Frequency\n",
    "tfidf = TfidfVectorizer()"
   ]
  },
  {
   "cell_type": "code",
   "execution_count": 4,
   "metadata": {},
   "outputs": [],
   "source": [
    "def calc_accuracy(data):\n",
    "    if(data > 100):\n",
    "        data = 100 - data + 100\n",
    "    else: \n",
    "        data = data - 100 + 100\n",
    "    \n",
    "    return '{:.2f}'.format(data)"
   ]
  },
  {
   "cell_type": "markdown",
   "metadata": {},
   "source": [
    "### Train with Sklearn"
   ]
  },
  {
   "cell_type": "code",
   "execution_count": 6,
   "metadata": {},
   "outputs": [],
   "source": [
    "def sklearn_model(file):\n",
    "    df = pd.read_csv('./data/' + file + '.csv')\n",
    "\n",
    "    reviews = df['review']\n",
    "    ratings = df['rating']\n",
    "\n",
    "    reviews = tfidf.fit_transform(reviews)\n",
    "\n",
    "    reviews_train, reviews_test, ratings_train, ratings_test = train_test_split(reviews, ratings, test_size = 0.2, random_state = 5)\n",
    "\n",
    "    clf = SVC(kernel = 'linear',\n",
    "              probability = True,\n",
    "              random_state = 32, \n",
    "              decision_function_shape = 'ovr',\n",
    "              max_iter = 10000)\n",
    "\n",
    "    clf.fit(reviews_train, ratings_train)\n",
    "    \n",
    "    return clf"
   ]
  },
  {
   "cell_type": "code",
   "execution_count": 7,
   "metadata": {},
   "outputs": [],
   "source": [
    "clf = sklearn_model('sklearn')"
   ]
  },
  {
   "cell_type": "markdown",
   "metadata": {},
   "source": [
    "### Train with FastText"
   ]
  },
  {
   "cell_type": "code",
   "execution_count": 8,
   "metadata": {},
   "outputs": [],
   "source": [
    "model = fasttext.train_supervised(input=\"./data/sklearn.csv\", epoch=32, lr=0.5, wordNgrams=2, bucket=200000, dim=30, loss='ova')"
   ]
  },
  {
   "cell_type": "markdown",
   "metadata": {},
   "source": [
    "### Model Comparison"
   ]
  },
  {
   "cell_type": "code",
   "execution_count": 14,
   "metadata": {
    "scrolled": false
   },
   "outputs": [
    {
     "name": "stdout",
     "output_type": "stream",
     "text": [
      "╒═══════════╤══════════════════╤═══════════════════╤═════════════════════════╤════════════════════╤══════════════════════════╕\n",
      "│   rating  │   total reviews  │   sklearn predict │    sklearn accuracy (%) │   fastText predict │    fastText accuracy (%) │\n",
      "╞═══════════╪══════════════════╪═══════════════════╪═════════════════════════╪════════════════════╪══════════════════════════╡\n",
      "│         5 │             1879 │              2035 │                   91.7  │               1892 │                    99.31 │\n",
      "├───────────┼──────────────────┼───────────────────┼─────────────────────────┼────────────────────┼──────────────────────────┤\n",
      "│         1 │             1258 │              1481 │                   82.27 │               1257 │                    99.92 │\n",
      "├───────────┼──────────────────┼───────────────────┼─────────────────────────┼────────────────────┼──────────────────────────┤\n",
      "│         4 │              199 │                45 │                   22.61 │                189 │                    94.97 │\n",
      "├───────────┼──────────────────┼───────────────────┼─────────────────────────┼────────────────────┼──────────────────────────┤\n",
      "│         2 │              197 │                35 │                   17.77 │                196 │                    99.49 │\n",
      "├───────────┼──────────────────┼───────────────────┼─────────────────────────┼────────────────────┼──────────────────────────┤\n",
      "│         3 │              106 │                43 │                   40.57 │                105 │                    99.06 │\n",
      "╘═══════════╧══════════════════╧═══════════════════╧═════════════════════════╧════════════════════╧══════════════════════════╛\n"
     ]
    }
   ],
   "source": [
    "def model_comparison(file, clf):\n",
    "    df = pd.read_csv('./data/' + file + '.csv')\n",
    "    \n",
    "    sklearnList = []\n",
    "    fasttextList = []\n",
    "    sk = []\n",
    "    ft = []\n",
    "    \n",
    "    # Predict\n",
    "    for review in df['review']:\n",
    "        fasttextList.append(model.predict(review))\n",
    "        vector = tfidf.transform([review])\n",
    "        sklearnList.append(clf.predict(vector))\n",
    "    \n",
    "    # Sklearn\n",
    "    for label in model.labels:\n",
    "        label = (label + ' ')\n",
    "        sk.append((label, len(list(filter(lambda k: label in k, sklearnList)))))\n",
    "    # FastText\n",
    "    for label in model.labels:\n",
    "        fasttextPredicts = []\n",
    "        for rating in fasttextList:\n",
    "            rating = str(rating[0]).split(\"'\")\n",
    "            fasttextPredicts.append(rating[1] + ' ')\n",
    "\n",
    "        ft.append((label, len(list(filter(lambda k: label in k, fasttextPredicts)))))\n",
    "\n",
    "    # Table\n",
    "    table = [['rating ','total reviews ', 'sklearn predict',' sklearn accuracy (%)', 'fastText predict', ' fastText accuracy (%)' ]]\n",
    "    \n",
    "    for i, label in enumerate(model.labels):\n",
    "        rating = label.replace('__label__', '')\n",
    "        total_reviews = len(df[df['rating'].isin([(label + ' ')])])\n",
    "        sklearn_predicts = sk[i][1]\n",
    "        sklearn_accuracy = calc_accuracy(sklearn_predicts / total_reviews * 100)\n",
    "        fasttext_predicts = ft[i][1]\n",
    "        fasttext_accuracy = calc_accuracy(fasttext_predicts / total_reviews * 100)\n",
    "        table.append([rating, total_reviews, sklearn_predicts, sklearn_accuracy, fasttext_predicts, fasttext_accuracy])\n",
    "        \n",
    "    return print(tabulate(table, headers='firstrow', tablefmt='fancy_grid'))\n",
    "    \n",
    "model_comparison('sklearn', clf)"
   ]
  }
 ],
 "metadata": {
  "interpreter": {
   "hash": "d4d1e4263499bec80672ea0156c357c1ee493ec2b1c70f0acce89fc37c4a6abe"
  },
  "kernelspec": {
   "display_name": "Python 3",
   "language": "python",
   "name": "python3"
  },
  "language_info": {
   "codemirror_mode": {
    "name": "ipython",
    "version": 3
   },
   "file_extension": ".py",
   "mimetype": "text/x-python",
   "name": "python",
   "nbconvert_exporter": "python",
   "pygments_lexer": "ipython3",
   "version": "3.7.6"
  }
 },
 "nbformat": 4,
 "nbformat_minor": 2
}
