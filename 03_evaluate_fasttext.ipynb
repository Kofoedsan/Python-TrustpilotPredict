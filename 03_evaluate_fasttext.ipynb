{
 "cells": [
  {
   "cell_type": "markdown",
   "metadata": {},
   "source": [
    "# 03 Evaluate fastText"
   ]
  },
  {
   "cell_type": "code",
   "execution_count": 1,
   "metadata": {},
   "outputs": [],
   "source": [
    "import fasttext\n",
    "import pandas as pd\n",
    "import numpy as np\n",
    "\n",
    "from tqdm.notebook import tqdm\n",
    "\n",
    "import matplotlib.pyplot as plt\n",
    "plt.style.use('fivethirtyeight')"
   ]
  },
  {
   "cell_type": "code",
   "execution_count": 2,
   "metadata": {},
   "outputs": [],
   "source": [
    "# Funktion til at splitte et datasæt op til hhv. train og validation\n",
    "def split_csv_file(file, weight):\n",
    "    csv = pd.read_csv('./data/' + file + '.csv')\n",
    "\n",
    "    train, valid = np.split(csv.sample(frac=1), [int(weight*len(csv))])\n",
    "    \n",
    "    np.savetxt('./data/'+file+'.train', train, delimiter=',', fmt='%s')\n",
    "    np.savetxt('./data/'+file+'.valid', valid, delimiter=',', fmt='%s')"
   ]
  },
  {
   "cell_type": "code",
   "execution_count": 3,
   "metadata": {},
   "outputs": [],
   "source": [
    "# Funktion til at omregne til procent\n",
    "def to_perc(a, b, c = 0):\n",
    "    if (a > 0) and (b > 0):\n",
    "        c = a / (a+b) * 100\n",
    "    return c"
   ]
  },
  {
   "cell_type": "code",
   "execution_count": 4,
   "metadata": {},
   "outputs": [],
   "source": [
    "# Funktion til at finde den mest optimale epoch iteration af datasættet\n",
    "def model_trainer():\n",
    "    models_train = [(0,0,0)]\n",
    "    models_valid = [(0,0,0)]\n",
    "    peak_epoch = 0\n",
    "    peak_value = 0.0\n",
    "\n",
    "    with tqdm(total=epoch+1) as progress:\n",
    "        for i in range(epoch+1):\n",
    "            progress.update(1)\n",
    "\n",
    "            model = fasttext.train_supervised(input=data_train, epoch=i, lr=lr, wordNgrams=wordNgrams, bucket=bucket, dim=dim, loss=loss)\n",
    "\n",
    "            models_train.append(model.test(data_train, k=top_labels))\n",
    "            models_valid.append(model.test(data_valid, k=top_labels))\n",
    "\n",
    "            if (len(models_train) == 3):\n",
    "                print('             Training  |    Validation')\n",
    "                print('        ', '{0:6}'.format(models_train[i][0]), '{:.1f}'.format(to_perc(models_train[i][0], models_valid[i][0])) + '%',\n",
    "                      ' | ', '{0:6}'.format(models_valid[i][0]), '{:.1f}'.format(to_perc(models_valid[i][0], models_train[i][0])) + '%')\n",
    "                print('                       |')\n",
    "                print('Epoch   ', 'Prec.', 'Recall  | ', 'Prec.', 'Recall')\n",
    "                print('-----------------------+---------------------------')\n",
    "            \n",
    "            if (models_valid[i][1] > peak_value):\n",
    "                peak_value = models_valid[i][1]\n",
    "                peak_epoch = i\n",
    "                peak_model = model\n",
    "                precision = '\\033[92mHigher\\033[0m'\n",
    "            else:\n",
    "                precision = '\\033[91mLower\\033[0m'\n",
    "            \n",
    "            if (len(models_train) > 2):\n",
    "                print('{0:2}'.format(i), ' ==> ', '{:.3f}'.format(models_train[i][1]), ' {:.3f}'.format(models_train[i][2]),\n",
    "                      ' |', ' {:.3f}'.format(models_valid[i][1]), ' {:.3f}'.format(models_valid[i][2]), ' ==> ', precision)\n",
    "\n",
    "        print('\\n    -->  Epoch peaked at', '\\033[1m' + '\\033[94m' + str(peak_epoch))\n",
    "\n",
    "        peak_model.save_model('./data/fasttext_trained_model.bin')\n",
    "        \n",
    "        return peak_epoch, models_train, models_valid"
   ]
  },
  {
   "cell_type": "code",
   "execution_count": 5,
   "metadata": {},
   "outputs": [],
   "source": [
    "# Visualisér modellen via plotting\n",
    "def model_plot(title, i, peak_epoch, models_train, models_valid):\n",
    "    threshold = 0.2\n",
    "    y_range_min = min([y[i] for y in models_valid if y[i] > threshold])\n",
    "    y_range_max = max([y[i] for y in models_train if y[i] > threshold])\n",
    "    \n",
    "    plt.plot([pr[i] for pr in models_train], label='Training')\n",
    "    plt.plot([pr[i] for pr in models_valid], label='Validation')\n",
    "    plt.axvline(peak_epoch, linewidth=2, color='g', linestyle='--', label=('Epoch Peak'))\n",
    "    \n",
    "    peak_value = models_valid[peak_epoch][i]\n",
    "    \n",
    "    plt.annotate('{:.3f}'.format(peak_value),\n",
    "                 xy=(peak_epoch,peak_value),\n",
    "                 xytext=(peak_epoch-10, peak_value+0.01),\n",
    "                 arrowprops={'arrowstyle' : 'simple', 'shrinkB' : 5, 'color' : 'black'},\n",
    "                 color='black')\n",
    "    \n",
    "    plt.title('Model (' + title + ')')\n",
    "    plt.ylabel(title)\n",
    "    plt.xlabel('Epoch')\n",
    "    plt.legend(loc='upper left')\n",
    "    plt.ylim([y_range_min, y_range_max+0.01])\n",
    "    \n",
    "    return plt.show()"
   ]
  },
  {
   "cell_type": "code",
   "execution_count": 6,
   "metadata": {
    "scrolled": false
   },
   "outputs": [
    {
     "data": {
      "application/vnd.jupyter.widget-view+json": {
       "model_id": "6e9d9414713149b3917082a75db429b9",
       "version_major": 2,
       "version_minor": 0
      },
      "text/plain": [
       "HBox(children=(FloatProgress(value=0.0, max=51.0), HTML(value='')))"
      ]
     },
     "metadata": {},
     "output_type": "display_data"
    },
    {
     "name": "stdout",
     "output_type": "stream",
     "text": [
      "             Training  |    Validation\n",
      "           2547 70.0%  |    1092 30.0%\n",
      "                       |\n",
      "Epoch    Prec. Recall  |  Prec. Recall\n",
      "-----------------------+---------------------------\n",
      " 1  ==>  0.042  0.084  |  0.041  0.082  ==>  \u001b[92mHigher\u001b[0m\n",
      " 2  ==>  0.431  0.862  |  0.431  0.863  ==>  \u001b[92mHigher\u001b[0m\n",
      " 3  ==>  0.431  0.862  |  0.431  0.863  ==>  \u001b[91mLower\u001b[0m\n",
      " 4  ==>  0.431  0.862  |  0.431  0.863  ==>  \u001b[91mLower\u001b[0m\n",
      " 5  ==>  0.431  0.862  |  0.431  0.863  ==>  \u001b[91mLower\u001b[0m\n",
      " 6  ==>  0.431  0.862  |  0.431  0.863  ==>  \u001b[91mLower\u001b[0m\n",
      " 7  ==>  0.435  0.871  |  0.434  0.868  ==>  \u001b[92mHigher\u001b[0m\n",
      " 8  ==>  0.441  0.883  |  0.438  0.876  ==>  \u001b[92mHigher\u001b[0m\n",
      " 9  ==>  0.444  0.889  |  0.440  0.879  ==>  \u001b[92mHigher\u001b[0m\n",
      "10  ==>  0.447  0.893  |  0.444  0.888  ==>  \u001b[92mHigher\u001b[0m\n",
      "11  ==>  0.448  0.896  |  0.446  0.893  ==>  \u001b[92mHigher\u001b[0m\n",
      "12  ==>  0.449  0.898  |  0.448  0.896  ==>  \u001b[92mHigher\u001b[0m\n",
      "13  ==>  0.449  0.898  |  0.448  0.897  ==>  \u001b[92mHigher\u001b[0m\n",
      "14  ==>  0.449  0.899  |  0.451  0.901  ==>  \u001b[92mHigher\u001b[0m\n",
      "15  ==>  0.450  0.899  |  0.453  0.906  ==>  \u001b[92mHigher\u001b[0m\n",
      "16  ==>  0.450  0.899  |  0.453  0.906  ==>  \u001b[91mLower\u001b[0m\n",
      "17  ==>  0.449  0.899  |  0.453  0.907  ==>  \u001b[92mHigher\u001b[0m\n",
      "18  ==>  0.450  0.899  |  0.455  0.909  ==>  \u001b[92mHigher\u001b[0m\n",
      "19  ==>  0.450  0.900  |  0.455  0.909  ==>  \u001b[91mLower\u001b[0m\n",
      "20  ==>  0.450  0.899  |  0.455  0.910  ==>  \u001b[92mHigher\u001b[0m\n",
      "21  ==>  0.449  0.898  |  0.456  0.911  ==>  \u001b[92mHigher\u001b[0m\n",
      "22  ==>  0.449  0.899  |  0.456  0.912  ==>  \u001b[92mHigher\u001b[0m\n",
      "23  ==>  0.449  0.899  |  0.457  0.914  ==>  \u001b[92mHigher\u001b[0m\n",
      "24  ==>  0.448  0.896  |  0.457  0.913  ==>  \u001b[91mLower\u001b[0m\n",
      "25  ==>  0.448  0.896  |  0.457  0.914  ==>  \u001b[91mLower\u001b[0m\n",
      "\n"
     ]
    },
    {
     "ename": "KeyboardInterrupt",
     "evalue": "",
     "output_type": "error",
     "traceback": [
      "\u001b[0;31m---------------------------------------------------------------------------\u001b[0m",
      "\u001b[0;31mKeyboardInterrupt\u001b[0m                         Traceback (most recent call last)",
      "\u001b[0;32m<ipython-input-6-a2166c4e5181>\u001b[0m in \u001b[0;36m<module>\u001b[0;34m\u001b[0m\n\u001b[1;32m     16\u001b[0m \u001b[0msplit_csv_file\u001b[0m\u001b[0;34m(\u001b[0m\u001b[0mfile\u001b[0m\u001b[0;34m,\u001b[0m \u001b[0mweight\u001b[0m\u001b[0;34m)\u001b[0m\u001b[0;34m\u001b[0m\u001b[0;34m\u001b[0m\u001b[0m\n\u001b[1;32m     17\u001b[0m \u001b[0;34m\u001b[0m\u001b[0m\n\u001b[0;32m---> 18\u001b[0;31m \u001b[0mmt\u001b[0m \u001b[0;34m=\u001b[0m \u001b[0mmodel_trainer\u001b[0m\u001b[0;34m(\u001b[0m\u001b[0;34m)\u001b[0m\u001b[0;34m\u001b[0m\u001b[0;34m\u001b[0m\u001b[0m\n\u001b[0m\u001b[1;32m     19\u001b[0m \u001b[0mmodel_plot\u001b[0m\u001b[0;34m(\u001b[0m\u001b[0;34m'Precision'\u001b[0m\u001b[0;34m,\u001b[0m \u001b[0;36m1\u001b[0m\u001b[0;34m,\u001b[0m \u001b[0mmt\u001b[0m\u001b[0;34m[\u001b[0m\u001b[0;36m0\u001b[0m\u001b[0;34m]\u001b[0m\u001b[0;34m,\u001b[0m \u001b[0mmt\u001b[0m\u001b[0;34m[\u001b[0m\u001b[0;36m1\u001b[0m\u001b[0;34m]\u001b[0m\u001b[0;34m,\u001b[0m \u001b[0mmt\u001b[0m\u001b[0;34m[\u001b[0m\u001b[0;36m2\u001b[0m\u001b[0;34m]\u001b[0m\u001b[0;34m)\u001b[0m\u001b[0;34m\u001b[0m\u001b[0;34m\u001b[0m\u001b[0m\n\u001b[1;32m     20\u001b[0m \u001b[0mmodel_plot\u001b[0m\u001b[0;34m(\u001b[0m\u001b[0;34m'Recall'\u001b[0m\u001b[0;34m,\u001b[0m \u001b[0;36m2\u001b[0m\u001b[0;34m,\u001b[0m \u001b[0mmt\u001b[0m\u001b[0;34m[\u001b[0m\u001b[0;36m0\u001b[0m\u001b[0;34m]\u001b[0m\u001b[0;34m,\u001b[0m \u001b[0mmt\u001b[0m\u001b[0;34m[\u001b[0m\u001b[0;36m1\u001b[0m\u001b[0;34m]\u001b[0m\u001b[0;34m,\u001b[0m \u001b[0mmt\u001b[0m\u001b[0;34m[\u001b[0m\u001b[0;36m2\u001b[0m\u001b[0;34m]\u001b[0m\u001b[0;34m)\u001b[0m\u001b[0;34m\u001b[0m\u001b[0;34m\u001b[0m\u001b[0m\n",
      "\u001b[0;32m<ipython-input-4-51ac8feffa91>\u001b[0m in \u001b[0;36mmodel_trainer\u001b[0;34m()\u001b[0m\n\u001b[1;32m     12\u001b[0m             \u001b[0mmodel\u001b[0m \u001b[0;34m=\u001b[0m \u001b[0mfasttext\u001b[0m\u001b[0;34m.\u001b[0m\u001b[0mtrain_supervised\u001b[0m\u001b[0;34m(\u001b[0m\u001b[0minput\u001b[0m\u001b[0;34m=\u001b[0m\u001b[0mdata_train\u001b[0m\u001b[0;34m,\u001b[0m \u001b[0mepoch\u001b[0m\u001b[0;34m=\u001b[0m\u001b[0mi\u001b[0m\u001b[0;34m,\u001b[0m \u001b[0mlr\u001b[0m\u001b[0;34m=\u001b[0m\u001b[0mlr\u001b[0m\u001b[0;34m,\u001b[0m \u001b[0mwordNgrams\u001b[0m\u001b[0;34m=\u001b[0m\u001b[0mwordNgrams\u001b[0m\u001b[0;34m,\u001b[0m \u001b[0mbucket\u001b[0m\u001b[0;34m=\u001b[0m\u001b[0mbucket\u001b[0m\u001b[0;34m,\u001b[0m \u001b[0mdim\u001b[0m\u001b[0;34m=\u001b[0m\u001b[0mdim\u001b[0m\u001b[0;34m,\u001b[0m \u001b[0mloss\u001b[0m\u001b[0;34m=\u001b[0m\u001b[0mloss\u001b[0m\u001b[0;34m)\u001b[0m\u001b[0;34m\u001b[0m\u001b[0;34m\u001b[0m\u001b[0m\n\u001b[1;32m     13\u001b[0m \u001b[0;34m\u001b[0m\u001b[0m\n\u001b[0;32m---> 14\u001b[0;31m             \u001b[0mmodels_train\u001b[0m\u001b[0;34m.\u001b[0m\u001b[0mappend\u001b[0m\u001b[0;34m(\u001b[0m\u001b[0mmodel\u001b[0m\u001b[0;34m.\u001b[0m\u001b[0mtest\u001b[0m\u001b[0;34m(\u001b[0m\u001b[0mdata_train\u001b[0m\u001b[0;34m,\u001b[0m \u001b[0mk\u001b[0m\u001b[0;34m=\u001b[0m\u001b[0mtop_labels\u001b[0m\u001b[0;34m)\u001b[0m\u001b[0;34m)\u001b[0m\u001b[0;34m\u001b[0m\u001b[0;34m\u001b[0m\u001b[0m\n\u001b[0m\u001b[1;32m     15\u001b[0m             \u001b[0mmodels_valid\u001b[0m\u001b[0;34m.\u001b[0m\u001b[0mappend\u001b[0m\u001b[0;34m(\u001b[0m\u001b[0mmodel\u001b[0m\u001b[0;34m.\u001b[0m\u001b[0mtest\u001b[0m\u001b[0;34m(\u001b[0m\u001b[0mdata_valid\u001b[0m\u001b[0;34m,\u001b[0m \u001b[0mk\u001b[0m\u001b[0;34m=\u001b[0m\u001b[0mtop_labels\u001b[0m\u001b[0;34m)\u001b[0m\u001b[0;34m)\u001b[0m\u001b[0;34m\u001b[0m\u001b[0;34m\u001b[0m\u001b[0m\n\u001b[1;32m     16\u001b[0m \u001b[0;34m\u001b[0m\u001b[0m\n",
      "\u001b[0;32m/opt/conda/lib/python3.7/site-packages/fasttext/FastText.py\u001b[0m in \u001b[0;36mtest\u001b[0;34m(self, path, k, threshold)\u001b[0m\n\u001b[1;32m    308\u001b[0m     \u001b[0;32mdef\u001b[0m \u001b[0mtest\u001b[0m\u001b[0;34m(\u001b[0m\u001b[0mself\u001b[0m\u001b[0;34m,\u001b[0m \u001b[0mpath\u001b[0m\u001b[0;34m,\u001b[0m \u001b[0mk\u001b[0m\u001b[0;34m=\u001b[0m\u001b[0;36m1\u001b[0m\u001b[0;34m,\u001b[0m \u001b[0mthreshold\u001b[0m\u001b[0;34m=\u001b[0m\u001b[0;36m0.0\u001b[0m\u001b[0;34m)\u001b[0m\u001b[0;34m:\u001b[0m\u001b[0;34m\u001b[0m\u001b[0;34m\u001b[0m\u001b[0m\n\u001b[1;32m    309\u001b[0m         \u001b[0;34m\"\"\"Evaluate supervised model using file given by path\"\"\"\u001b[0m\u001b[0;34m\u001b[0m\u001b[0;34m\u001b[0m\u001b[0m\n\u001b[0;32m--> 310\u001b[0;31m         \u001b[0;32mreturn\u001b[0m \u001b[0mself\u001b[0m\u001b[0;34m.\u001b[0m\u001b[0mf\u001b[0m\u001b[0;34m.\u001b[0m\u001b[0mtest\u001b[0m\u001b[0;34m(\u001b[0m\u001b[0mpath\u001b[0m\u001b[0;34m,\u001b[0m \u001b[0mk\u001b[0m\u001b[0;34m,\u001b[0m \u001b[0mthreshold\u001b[0m\u001b[0;34m)\u001b[0m\u001b[0;34m\u001b[0m\u001b[0;34m\u001b[0m\u001b[0m\n\u001b[0m\u001b[1;32m    311\u001b[0m \u001b[0;34m\u001b[0m\u001b[0m\n\u001b[1;32m    312\u001b[0m     \u001b[0;32mdef\u001b[0m \u001b[0mtest_label\u001b[0m\u001b[0;34m(\u001b[0m\u001b[0mself\u001b[0m\u001b[0;34m,\u001b[0m \u001b[0mpath\u001b[0m\u001b[0;34m,\u001b[0m \u001b[0mk\u001b[0m\u001b[0;34m=\u001b[0m\u001b[0;36m1\u001b[0m\u001b[0;34m,\u001b[0m \u001b[0mthreshold\u001b[0m\u001b[0;34m=\u001b[0m\u001b[0;36m0.0\u001b[0m\u001b[0;34m)\u001b[0m\u001b[0;34m:\u001b[0m\u001b[0;34m\u001b[0m\u001b[0;34m\u001b[0m\u001b[0m\n",
      "\u001b[0;31mKeyboardInterrupt\u001b[0m: "
     ]
    }
   ],
   "source": [
    "# Træn modellen ud fra givne parameter\n",
    "file = 'sklearn'\n",
    "\n",
    "epoch      = 50\n",
    "lr         = 0.1\n",
    "wordNgrams = 2\n",
    "bucket     = 20000\n",
    "dim        = 100\n",
    "loss       = 'ova'\n",
    "\n",
    "top_labels = 2\n",
    "data_train = './data/' + file + '.train'\n",
    "data_valid = './data/' + file + '.valid'\n",
    "\n",
    "weight     = 0.8\n",
    "split_csv_file(file, weight)\n",
    "\n",
    "mt = model_trainer()\n",
    "model_plot('Precision', 1, mt[0], mt[1], mt[2])\n",
    "model_plot('Recall', 2, mt[0], mt[1], mt[2])"
   ]
  },
  {
   "cell_type": "code",
   "execution_count": null,
   "metadata": {},
   "outputs": [],
   "source": []
  }
 ],
 "metadata": {
  "interpreter": {
   "hash": "d4d1e4263499bec80672ea0156c357c1ee493ec2b1c70f0acce89fc37c4a6abe"
  },
  "kernelspec": {
   "display_name": "Python 3",
   "language": "python",
   "name": "python3"
  },
  "language_info": {
   "codemirror_mode": {
    "name": "ipython",
    "version": 3
   },
   "file_extension": ".py",
   "mimetype": "text/x-python",
   "name": "python",
   "nbconvert_exporter": "python",
   "pygments_lexer": "ipython3",
   "version": "3.7.6"
  }
 },
 "nbformat": 4,
 "nbformat_minor": 2
}
