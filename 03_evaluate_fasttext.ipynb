{
 "cells": [
  {
   "cell_type": "markdown",
   "metadata": {},
   "source": [
    "# 03 Evaluate fastText"
   ]
  },
  {
   "cell_type": "code",
   "execution_count": null,
   "metadata": {},
   "outputs": [],
   "source": [
    "import fasttext\n",
    "import pandas as pd\n",
    "import numpy as np\n",
    "\n",
    "from tqdm.notebook import tqdm\n",
    "\n",
    "import matplotlib.pyplot as plt\n",
    "plt.style.use('fivethirtyeight')"
   ]
  },
  {
   "cell_type": "code",
   "execution_count": null,
   "metadata": {},
   "outputs": [],
   "source": [
    "# Funktion til at splitte et datasæt op til hhv. train og validation\n",
    "def split_csv_file(file, weight):\n",
    "    csv = pd.read_csv('./data/' + file + '.csv')\n",
    "\n",
    "    train, valid = np.split(csv.sample(frac=1), [int(weight*len(csv))])\n",
    "    \n",
    "    np.savetxt('./data/'+file+'.train', train, header='rating, review', comments='', delimiter=',', fmt='%s')\n",
    "    np.savetxt('./data/'+file+'.valid', valid, header='rating, review', comments='', delimiter=',', fmt='%s')"
   ]
  },
  {
   "cell_type": "code",
   "execution_count": null,
   "metadata": {},
   "outputs": [],
   "source": [
    "# Funktion til at omregne til procent\n",
    "def to_perc(a, b, c = 0):\n",
    "    if (a > 0) and (b > 0):\n",
    "        c = a / (a+b) * 100\n",
    "    return c"
   ]
  },
  {
   "cell_type": "code",
   "execution_count": null,
   "metadata": {},
   "outputs": [],
   "source": [
    "# Funktion til at finde den mest optimale epoch iteration af datasættet\n",
    "def model_trainer():\n",
    "    models_train = [(0,0,0)]\n",
    "    models_valid = [(0,0,0)]\n",
    "    peak_epoch = 0\n",
    "    peak_value = 0.0\n",
    "\n",
    "    with tqdm(total=epoch+1) as progress:\n",
    "        for i in range(epoch+1):\n",
    "            progress.update(1)\n",
    "\n",
    "            model = fasttext.train_supervised(input=data_train, epoch=i, lr=lr, wordNgrams=wordNgrams, bucket=bucket, dim=dim, loss=loss)\n",
    "\n",
    "            models_train.append(model.test(data_train, k=top_labels))\n",
    "            models_valid.append(model.test(data_valid, k=top_labels))\n",
    "\n",
    "            if (len(models_train) == 3):\n",
    "                print('             Training  |    Validation')\n",
    "                print('        ', '{0:6}'.format(models_train[i][0]), '{:.1f}'.format(to_perc(models_train[i][0], models_valid[i][0])) + '%',\n",
    "                      ' | ', '{0:6}'.format(models_valid[i][0]), '{:.1f}'.format(to_perc(models_valid[i][0], models_train[i][0])) + '%')\n",
    "                print('                       |')\n",
    "                print('Epoch   ', 'Prec.', 'Recall  | ', 'Prec.', 'Recall')\n",
    "                print('-----------------------+---------------------------')\n",
    "            \n",
    "            if (models_valid[i][1] > peak_value):\n",
    "                peak_value = models_valid[i][1]\n",
    "                peak_epoch = i\n",
    "                peak_model = model\n",
    "                precision = '\\033[92mHigher\\033[0m'\n",
    "            else:\n",
    "                precision = '\\033[91mLower\\033[0m'\n",
    "            \n",
    "            if (len(models_train) > 2):\n",
    "                print('{0:2}'.format(i), ' ==> ', '{:.3f}'.format(models_train[i][1]), ' {:.3f}'.format(models_train[i][2]),\n",
    "                      ' |', ' {:.3f}'.format(models_valid[i][1]), ' {:.3f}'.format(models_valid[i][2]), ' ==> ', precision)\n",
    "\n",
    "        print('\\n    -->  Epoch peaked at', '\\033[1m' + '\\033[94m' + str(peak_epoch))\n",
    "\n",
    "        peak_model.save_model('./data/fasttext_trained_model.bin')\n",
    "        \n",
    "        return peak_epoch, models_train, models_valid"
   ]
  },
  {
   "cell_type": "code",
   "execution_count": null,
   "metadata": {},
   "outputs": [],
   "source": [
    "# Visualisér modellen via plotting\n",
    "def model_plot(title, i, peak_epoch, models_train, models_valid):\n",
    "    threshold = 0.2\n",
    "    y_range_min = min([y[i] for y in models_valid if y[i] > threshold])\n",
    "    y_range_max = max([y[i] for y in models_train if y[i] > threshold])\n",
    "    \n",
    "    plt.plot([pr[i] for pr in models_train], label='Training')\n",
    "    plt.plot([pr[i] for pr in models_valid], label='Validation')\n",
    "    plt.axvline(peak_epoch, linewidth=2, color='g', linestyle='--', label=('Epoch Peak'))\n",
    "    \n",
    "    peak_value = models_valid[peak_epoch][i]\n",
    "    \n",
    "    plt.annotate('{:.3f}'.format(peak_value),\n",
    "                 xy=(peak_epoch,peak_value),\n",
    "                 xytext=(peak_epoch-10, peak_value+0.01),\n",
    "                 arrowprops={'arrowstyle' : 'simple', 'shrinkB' : 5, 'color' : 'black'},\n",
    "                 color='black')\n",
    "    \n",
    "    plt.title('Model (' + title + ')')\n",
    "    plt.ylabel(title)\n",
    "    plt.xlabel('Epoch')\n",
    "    plt.legend(loc='upper left')\n",
    "    plt.ylim([y_range_min, y_range_max+0.01])\n",
    "    \n",
    "    return plt.show()"
   ]
  },
  {
   "cell_type": "code",
   "execution_count": null,
   "metadata": {
    "scrolled": false
   },
   "outputs": [],
   "source": [
    "# Træn modellen ud fra givne parameter\n",
    "file = 'sklearn'\n",
    "\n",
    "epoch      = 50\n",
    "lr         = 0.1\n",
    "wordNgrams = 2\n",
    "bucket     = 20000\n",
    "dim        = 100\n",
    "loss       = 'ova'\n",
    "\n",
    "top_labels = 2\n",
    "data_train = './data/' + file + '.train'\n",
    "data_valid = './data/' + file + '.valid'\n",
    "\n",
    "weight     = 0.8\n",
    "split_csv_file(file, weight)\n",
    "\n",
    "mt = model_trainer()\n",
    "model_plot('Precision', 1, mt[0], mt[1], mt[2])\n",
    "model_plot('Recall', 2, mt[0], mt[1], mt[2])"
   ]
  },
  {
   "cell_type": "code",
   "execution_count": null,
   "metadata": {},
   "outputs": [],
   "source": []
  }
 ],
 "metadata": {
  "interpreter": {
   "hash": "d4d1e4263499bec80672ea0156c357c1ee493ec2b1c70f0acce89fc37c4a6abe"
  },
  "kernelspec": {
   "display_name": "Python 3",
   "language": "python",
   "name": "python3"
  },
  "language_info": {
   "codemirror_mode": {
    "name": "ipython",
    "version": 3
   },
   "file_extension": ".py",
   "mimetype": "text/x-python",
   "name": "python",
   "nbconvert_exporter": "python",
   "pygments_lexer": "ipython3",
   "version": "3.7.6"
  }
 },
 "nbformat": 4,
 "nbformat_minor": 2
}
