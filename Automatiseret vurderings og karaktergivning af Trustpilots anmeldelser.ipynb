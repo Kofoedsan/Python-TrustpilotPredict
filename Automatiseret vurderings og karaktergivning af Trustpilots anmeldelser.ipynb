{
 "cells": [
  {
   "cell_type": "markdown",
   "id": "96bf3586",
   "metadata": {},
   "source": [
    "I dette projekt vil vi gøre det muligt, at forudsige en karakter fra 1-5 ud fra tekstindholdet i en anmeldelse på Trustpilot,\n",
    "og vise om sammenhængen af én virksomheds samlede vurdering passer mellem karakter og anmeldelser.\n",
    "Vi har tænkt os at gøre dette ved at scrape en masse andmeldelser fra forskellige virksomheder på Truspilot ved brug af selenium. Vi vil basere vores model ud fra de indsamlede data.\n",
    "\n",
    "Med vores model vil vi:\n",
    "\n",
    "1. Evaluére og fastslå hvor brugbar modellen er ved at sammenligne træningsdata- og valideringsdata.\n",
    "1a.Efterjustér modellens definition efter behov.\n",
    "\n",
    "\n",
    "\n",
    "2. Forudsige hvilken karakter en anmelder vil give ud fra den anmeldselse de har skrevet. (Regression)\n",
    "2a. Sammenlign med den aktuelle anmelder karakter.\n",
    "\n",
    "\n",
    "\n",
    "3. Vis sansynligheden for predictions indenfor Trustpilots fem katagorier: Fremragende, God, Middel, Uder middel, Dårlig, for en specifik anmeldelse. (Classification)\n",
    "\n",
    "\n",
    "\n",
    "4. Gruppere og plot ratings for én specifik virksomhed i et 3D feature space. (Clustering)\n",
    "\n",
    "\n",
    "\n",
    "5. Brug WordCloud til og plotte de mest anvendte Negative og Positive ord."
   ]
  },
  {
   "cell_type": "code",
   "execution_count": null,
   "id": "579f33c8",
   "metadata": {},
   "outputs": [],
   "source": []
  }
 ],
 "metadata": {
  "kernelspec": {
   "display_name": "Python 3 (ipykernel)",
   "language": "python",
   "name": "python3"
  },
  "language_info": {
   "codemirror_mode": {
    "name": "ipython",
    "version": 3
   },
   "file_extension": ".py",
   "mimetype": "text/x-python",
   "name": "python",
   "nbconvert_exporter": "python",
   "pygments_lexer": "ipython3",
   "version": "3.9.7"
  }
 },
 "nbformat": 4,
 "nbformat_minor": 5
}
