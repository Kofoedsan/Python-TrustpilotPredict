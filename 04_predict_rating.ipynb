{
 "cells": [
  {
   "cell_type": "markdown",
   "metadata": {},
   "source": [
    "# 04 Predict rating"
   ]
  },
  {
   "cell_type": "code",
   "execution_count": 1,
   "metadata": {},
   "outputs": [],
   "source": [
    "import fasttext\n",
    "import pandas as pd\n",
    "import numpy as np\n",
    "import random\n",
    "import matplotlib.pyplot as plt"
   ]
  },
  {
   "cell_type": "code",
   "execution_count": 2,
   "metadata": {},
   "outputs": [
    {
     "name": "stderr",
     "output_type": "stream",
     "text": [
      "Warning : `load_model` does not return WordVectorModel or SupervisedModel any more, but a `FastText` object which is very similar.\n"
     ]
    }
   ],
   "source": [
    "model = fasttext.load_model('./data/fasttext_trained_model.bin')"
   ]
  },
  {
   "cell_type": "code",
   "execution_count": 3,
   "metadata": {},
   "outputs": [],
   "source": [
    "df = pd.read_csv('./data/' + 'sklearn' + '.csv')\n",
    "\n",
    "labelToTest = np.sort(model.labels)\n",
    "\n",
    "totalactual = []\n",
    "\n",
    "for i in labelToTest:\n",
    "    totalactual.append(df[df['rating'].isin([i+\" \"])]) \n",
    "    \n",
    "    \n",
    "predictedList = []\n",
    "for review in range(len(df)):\n",
    "    predictedReview = model.predict(df['review'][review])\n",
    "    predictedList.append(str(predictedReview[0]).split(\"'\")[1])\n",
    "\n",
    "\n",
    "amountPredicted = []\n",
    "for label in labelToTest:\n",
    "        label = label.replace(\" \",\"\")\n",
    "        amountPredicted.append(list(filter(lambda k: label in k, predictedList)))\n",
    "        \n",
    "        \n",
    "actualList= []     \n",
    "fasttextList = []\n",
    "for i in range(len(labelToTest)):\n",
    "    actualList.append(len(totalactual[i]))\n",
    "    fasttextList.append(len(amountPredicted[i]))"
   ]
  },
  {
   "cell_type": "code",
   "execution_count": 4,
   "metadata": {},
   "outputs": [
    {
     "data": {
      "image/png": "[encoded data removed]",
      "text/plain": [
       "<Figure size 432x288 with 1 Axes>"
      ]
     },
     "metadata": {
      "needs_background": "light"
     },
     "output_type": "display_data"
    },
    {
     "name": "stdout",
     "output_type": "stream",
     "text": [
      "Actual ratings: [1258, 197, 106, 199, 1879]\n",
      "FastText ratings: [1302, 161, 88, 155, 1933]\n"
     ]
    }
   ],
   "source": [
    "labels = []\n",
    "for i in np.sort(labelToTest):\n",
    "    labels.append(i.replace('__label__',''))\n",
    "    \n",
    "fig, ax = plt.subplots()\n",
    "index = np.arange(5)\n",
    "bar_width = 0.45\n",
    "actual = ax.bar(index, actualList, bar_width,\n",
    "                label=\"Actual\")\n",
    "\n",
    "fasttext = ax.bar(index+bar_width, fasttextList,\n",
    "                   bar_width, label=\"FastText\")\n",
    "\n",
    "ax.set_xlabel('Rating')\n",
    "ax.set_ylabel('Amount')\n",
    "ax.set_title('FastText vs actual dataset')\n",
    "ax.set_xticks(index + bar_width / 2)\n",
    "ax.set_xticklabels(labels)\n",
    "ax.legend()\n",
    "plt.show()\n",
    "\n",
    "print('Actual ratings:', actualList)\n",
    "print('FastText ratings:', fasttextList)"
   ]
  },
  {
   "cell_type": "code",
   "execution_count": 6,
   "metadata": {},
   "outputs": [
    {
     "name": "stdout",
     "output_type": "stream",
     "text": [
      "Review nr: 3522\n",
      "Reviewet har den faktiske rating: __label__5 \n",
      "Fasttext har estimeret følgende ratings, sorteret efter den rating, som fasttext mener er mest sandsynlig\n",
      "__label__5 9.820237755775452\n",
      "__label__1 0.14513582922518253\n",
      "__label__2 0.061075626872479916\n",
      "__label__3 0.00010000003385357559\n",
      "__label__4 0.00010000003385357559\n"
     ]
    }
   ],
   "source": [
    "randomNumber = random.randint(0,len(df))\n",
    "actualReview = df['review'][randomNumber]\n",
    "actualRating = df['rating'][randomNumber]\n",
    "predictedReview = model.predict(actualReview,k=-1)\n",
    "print('Review nr:',randomNumber+2)\n",
    "#print('Det faktiske review, som det står på trustpilot: '+'\\n'+actualReview)\n",
    "zip_iterator = zip(predictedReview[0], predictedReview[1])\n",
    "mod_dict = dict(zip_iterator)\n",
    "\n",
    "print('Reviewet har den faktiske rating: '+actualRating)\n",
    "print('Fasttext har estimeret følgende ratings, sorteret efter den rating, som fasttext mener er mest sandsynlig')\n",
    "for k, v in mod_dict.items():\n",
    "    print(str(k)+' ' + str(v*10))\n"
   ]
  }
 ],
 "metadata": {
  "interpreter": {
   "hash": "d4d1e4263499bec80672ea0156c357c1ee493ec2b1c70f0acce89fc37c4a6abe"
  },
  "kernelspec": {
   "display_name": "Python 3",
   "language": "python",
   "name": "python3"
  },
  "language_info": {
   "codemirror_mode": {
    "name": "ipython",
    "version": 3
   },
   "file_extension": ".py",
   "mimetype": "text/x-python",
   "name": "python",
   "nbconvert_exporter": "python",
   "pygments_lexer": "ipython3",
   "version": "3.7.6"
  }
 },
 "nbformat": 4,
 "nbformat_minor": 2
}
