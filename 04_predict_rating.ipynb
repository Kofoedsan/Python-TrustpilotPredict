{
 "cells": [
  {
   "cell_type": "markdown",
   "metadata": {},
   "source": [
    "# 04 Predict rating"
   ]
  },
  {
   "cell_type": "markdown",
   "metadata": {},
   "source": [
    "## TODO\n",
    "- Predict rating fra et random review i en csv fil. compare med rigtigt review\n",
    "- QOL predict all review fra en csv fil. og compare med de rigtige reviews"
   ]
  },
  {
   "cell_type": "code",
   "execution_count": 6,
   "metadata": {},
   "outputs": [],
   "source": [
    "import fasttext\n"
   ]
  },
  {
   "cell_type": "code",
   "execution_count": 2,
   "metadata": {},
   "outputs": [
    {
     "name": "stderr",
     "output_type": "stream",
     "text": [
      "Warning : `load_model` does not return WordVectorModel or SupervisedModel any more, but a `FastText` object which is very similar.\n"
     ]
    }
   ],
   "source": [
    "model = fasttext.load_model('./data/fasttext_trained_model.bin')"
   ]
  },
  {
   "cell_type": "code",
   "execution_count": 5,
   "metadata": {},
   "outputs": [
    {
     "name": "stdout",
     "output_type": "stream",
     "text": [
      "__label__1 0.348655104637146\n",
      "__label__5 0.061885979026556015\n",
      "__label__2 0.04337579756975174\n",
      "__label__4 0.040855713188648224\n",
      "__label__3 0.024433093145489693\n"
     ]
    }
   ],
   "source": [
    "lol1 = model.predict(\"kan ikke rigtig anbefale stedet ! at sende en kunde afsted vel vidende bilen ikke fungere :/\",k=-1)\n",
    "\n",
    "lol2 = model.predict(\"ringe service\",k=-1)\n",
    "\n",
    "lol3 = model.predict(\"virkelig god service, jeg vil helt klart anbefale det til alle mine venner\",k=-1)\n",
    "\n",
    "lol4 = model.predict(\"fucking lort dårlig service\",k=-1)\n",
    "\n",
    "lol5 = model.predict(\"rimelig overskuelig app/hjemmeside det fungere fint og som det skal. men har nu ventet i over en måned på at i for er par sko på lager som jeg godt kunne tænke mig. syndes godt nok det er lang tid.\",k=-1)\n",
    "\n",
    "lol6 = model.predict(\"rimelig overskuelig. men lang ventetid\",k=-1)\n",
    "\n",
    "lol7 = model.predict(\"lidt bøvlet at bestille, men hurtig levering. bestilte et fingertouch sikkert panzerglas med til min nye mobil, med det er 200 kr smidt ud af vinduet for efter at have monteret det, kan mobilen ikke åbne med fingeraftryk mere, så er kun mellemtilfreds med mit køb\",k=-1)\n",
    "\n",
    "\n",
    "zip_iterator = zip(lol1[0], lol1[1])\n",
    "mod_dict = dict(zip_iterator)\n",
    "\n",
    "for k, v in mod_dict.items():\n",
    "    print(str(k)+' ' + str(v))"
   ]
  },
  {
   "cell_type": "code",
   "execution_count": 7,
   "metadata": {},
   "outputs": [],
   "source": [
    "# -  Vis sansynligheden for predictions indenfor Trustpilots fem katagorier: Fremragende, God, Middel,\n",
    "#       Uder middel, Dårlig, for en specifik anmeldelse."
   ]
  }
 ],
 "metadata": {
  "interpreter": {
   "hash": "d4d1e4263499bec80672ea0156c357c1ee493ec2b1c70f0acce89fc37c4a6abe"
  },
  "kernelspec": {
   "display_name": "Python 3.7.6 ('base')",
   "language": "python",
   "name": "python3"
  },
  "language_info": {
   "codemirror_mode": {
    "name": "ipython",
    "version": 3
   },
   "file_extension": ".py",
   "mimetype": "text/x-python",
   "name": "python",
   "nbconvert_exporter": "python",
   "pygments_lexer": "ipython3",
   "version": "3.7.6"
  },
  "orig_nbformat": 4
 },
 "nbformat": 4,
 "nbformat_minor": 2
}
