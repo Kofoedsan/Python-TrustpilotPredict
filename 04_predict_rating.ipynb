{
 "cells": [
  {
   "cell_type": "markdown",
   "metadata": {},
   "source": [
    "# 04 Predict rating"
   ]
  },
  {
   "cell_type": "markdown",
   "metadata": {},
   "source": [
    "## TODO\n",
    "- Predict rating fra et random review i en csv fil. compare med rigtigt review OK\n",
    "- QOL predict all review fra en csv fil. og compare med de rigtige reviews MAYBE?"
   ]
  },
  {
   "cell_type": "code",
   "execution_count": null,
   "metadata": {},
   "outputs": [],
   "source": [
    "import fasttext\n",
    "import pandas as pd\n",
    "import random"
   ]
  },
  {
   "cell_type": "code",
   "execution_count": null,
   "metadata": {},
   "outputs": [],
   "source": [
    "model = fasttext.load_model('./data/fasttext_trained_model.bin')"
   ]
  },
  {
   "cell_type": "code",
   "execution_count": null,
   "metadata": {},
   "outputs": [],
   "source": [
    "df = pd.read_csv('./data/' + 'sklearn' + '.csv')\n",
    "for i in range(len(df)):\n",
    "    print('\\n')\n",
    "    actualReview = df['review'][i]\n",
    "    actualRating = df['rating'][i]\n",
    "    predictedReview = model.predict(actualReview,k=-1)\n",
    "    print('Review nr:',i+2)\n",
    "    #print('Det faktiske review, som det står på trustpilot: '+'\\n'+actualReview)\n",
    "    zip_iterator = zip(predictedReview[0], predictedReview[1])\n",
    "    mod_dict = dict(zip_iterator)\n",
    "\n",
    "    print('Reviewet har den faktiske rating: '+actualRating)\n",
    "    print('Fasttext har estimeret følgende ratings, sorteret efter den rating, som fasttext mener er mest sandsynlig')\n",
    "    for k, v in mod_dict.items():\n",
    "        print(str(k)+' ' + str(v))\n",
    "\n"
   ]
  },
  {
   "cell_type": "code",
   "execution_count": null,
   "metadata": {},
   "outputs": [],
   "source": [
    "randomIpNumber = random.randint(0,len(df))\n",
    "actualReview = df['review'][randomIpNumber]\n",
    "actualRating = df['rating'][randomIpNumber]\n",
    "predictedReview = model.predict(actualReview,k=-1)\n",
    "print('Review nr:',randomIpNumber+2)\n",
    "#print('Det faktiske review, som det står på trustpilot: '+'\\n'+actualReview)\n",
    "zip_iterator = zip(predictedReview[0], predictedReview[1])\n",
    "mod_dict = dict(zip_iterator)\n",
    "\n",
    "print('Reviewet har den faktiske rating: '+actualRating)\n",
    "print('Fasttext har estimeret følgende ratings, sorteret efter den rating, som fasttext mener er mest sandsynlig')\n",
    "for k, v in mod_dict.items():\n",
    "    print(str(k)+' ' + str(v))\n"
   ]
  },
  {
   "cell_type": "code",
   "execution_count": null,
   "metadata": {},
   "outputs": [],
   "source": [
    "#####SLET?\n",
    "\n",
    "# lol1 = model.predict(\"kan ikke rigtig anbefale stedet ! at sende en kunde afsted vel vidende bilen ikke fungere :/\",k=-1)\n",
    "\n",
    "# lol2 = model.predict(\"ringe service\",k=-1)\n",
    "\n",
    "# lol3 = model.predict(\"virkelig god service, jeg vil helt klart anbefale det til alle mine venner\",k=-1)\n",
    "\n",
    "# lol4 = model.predict(\"fucking lort dårlig service\",k=-1)\n",
    "\n",
    "# lol5 = model.predict(\"rimelig overskuelig app/hjemmeside det fungere fint og som det skal. men har nu ventet i over en måned på at i for er par sko på lager som jeg godt kunne tænke mig. syndes godt nok det er lang tid.\",k=-1)\n",
    "\n",
    "# lol6 = model.predict(\"rimelig overskuelig. men lang ventetid\",k=-1)\n",
    "\n",
    "# lol7 = model.predict(\"lidt bøvlet at bestille, men hurtig levering. bestilte et fingertouch sikkert panzerglas med til min nye mobil, med det er 200 kr smidt ud af vinduet for efter at have monteret det, kan mobilen ikke åbne med fingeraftryk mere, så er kun mellemtilfreds med mit køb\",k=-1)\n",
    "\n",
    "\n",
    "# zip_iterator = zip(lol1[0], lol1[1])\n",
    "# mod_dict = dict(zip_iterator)\n",
    "\n",
    "# for k, v in mod_dict.items():\n",
    "#     print(str(k)+' ' + str(v))"
   ]
  },
  {
   "cell_type": "code",
   "execution_count": null,
   "metadata": {},
   "outputs": [],
   "source": [
    "# -  Vis sansynligheden for predictions indenfor Trustpilots fem katagorier: Fremragende, God, Middel,\n",
    "#       Uder middel, Dårlig, for en specifik anmeldelse."
   ]
  }
 ],
 "metadata": {
  "interpreter": {
   "hash": "d4d1e4263499bec80672ea0156c357c1ee493ec2b1c70f0acce89fc37c4a6abe"
  },
  "kernelspec": {
   "display_name": "Python 3",
   "language": "python",
   "name": "python3"
  },
  "language_info": {
   "codemirror_mode": {
    "name": "ipython",
    "version": 3
   },
   "file_extension": ".py",
   "mimetype": "text/x-python",
   "name": "python",
   "nbconvert_exporter": "python",
   "pygments_lexer": "ipython3",
   "version": "3.7.6"
  }
 },
 "nbformat": 4,
 "nbformat_minor": 2
}
