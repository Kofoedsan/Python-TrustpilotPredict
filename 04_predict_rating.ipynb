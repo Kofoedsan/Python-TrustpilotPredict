{
 "cells": [
  {
   "cell_type": "markdown",
   "metadata": {},
   "source": [
    "# 04 Predict rating"
   ]
  },
  {
   "cell_type": "markdown",
   "metadata": {},
   "source": [
    "## TODO\n",
    "- Predict rating fra et random review i en csv fil. compare med rigtigt review OK\n",
    "- QOL predict all review fra en csv fil. og compare med de rigtige reviews MAYBE?"
   ]
  },
  {
   "cell_type": "code",
   "execution_count": 1,
   "metadata": {},
   "outputs": [],
   "source": [
    "import fasttext\n",
    "import pandas as pd\n",
    "import numpy as np\n",
    "import random\n",
    "import matplotlib.pyplot as plt\n"
   ]
  },
  {
   "cell_type": "code",
   "execution_count": 2,
   "metadata": {},
   "outputs": [
    {
     "name": "stderr",
     "output_type": "stream",
     "text": [
      "Warning : `load_model` does not return WordVectorModel or SupervisedModel any more, but a `FastText` object which is very similar.\n"
     ]
    }
   ],
   "source": [
    "model = fasttext.load_model('./data/fasttext_trained_model.bin')"
   ]
  },
  {
   "cell_type": "code",
   "execution_count": 3,
   "metadata": {},
   "outputs": [],
   "source": [
    "df = pd.read_csv('./data/' + 'sklearn' + '.csv')\n",
    "\n",
    "predictedList = []\n",
    "\n",
    "labelToTest = ['__label__1 ','__label__2 ','__label__3 ','__label__4 ','__label__5 ']\n",
    "\n",
    "actualLabel1 = []\n",
    "actualLabel2 = []\n",
    "actualLabel3 = []\n",
    "actualLabel4 = []\n",
    "actualLabel5 = []\n",
    "totalactual = []\n",
    "\n",
    "for i in labelToTest:\n",
    "    if(i == '__label__5 '):\n",
    "        actualLabel5 = df[df['rating'].isin([i])]\n",
    "    elif(i == '__label__4 '):\n",
    "        actualLabel4 = df[df['rating'].isin([i])]\n",
    "    elif(i == '__label__3 '):\n",
    "        actualLabel3 = df[df['rating'].isin([i])]\n",
    "    elif(i == '__label__2 '):\n",
    "        actualLabel2 = df[df['rating'].isin([i])]\n",
    "    elif(i == '__label__1 '):\n",
    "        actualLabel1 = df[df['rating'].isin([i])]\n",
    "    else:\n",
    "        print('invalid prediction label')\n",
    "\n",
    "        \n",
    "totalactual.append(actualLabel1)\n",
    "totalactual.append(actualLabel2)\n",
    "totalactual.append(actualLabel3)\n",
    "totalactual.append(actualLabel4)\n",
    "totalactual.append(actualLabel5)\n",
    "        \n",
    "for review in range(len(df)):\n",
    "    predictedReview = model.predict(df['review'][review])\n",
    "    predictedList.append(str(predictedReview[0]).split(\"'\")[1])\n",
    "    \n",
    "predictedLabel1 = []\n",
    "predictedLabel2 = []\n",
    "predictedLabel3 = []\n",
    "predictedLabel4 = []\n",
    "predictedLabel5 = []  \n",
    "\n",
    "for i in predictedList:\n",
    "    if(i == '__label__5'):\n",
    "        predictedLabel5.append(i) \n",
    "    elif(i == '__label__4'):\n",
    "        predictedLabel4.append(i) \n",
    "    elif(i == '__label__3'):\n",
    "        predictedLabel3.append(i) \n",
    "    elif(i == '__label__2'):\n",
    "        predictedLabel2.append(i) \n",
    "    elif(i == '__label__1'):\n",
    "        predictedLabel1.append(i) \n",
    "    else:\n",
    "        print('invalid prediction label')\n",
    "\n",
    "amountPredicted = [len(predictedLabel1), len(predictedLabel2), len(predictedLabel3), len(predictedLabel4), len(predictedLabel5)]"
   ]
  },
  {
   "cell_type": "code",
   "execution_count": 4,
   "metadata": {},
   "outputs": [
    {
     "data": {
      "image/png": "[encoded data removed]",
      "text/plain": [
       "<Figure size 432x288 with 1 Axes>"
      ]
     },
     "metadata": {
      "needs_background": "light"
     },
     "output_type": "display_data"
    }
   ],
   "source": [
    "index = np.arange(5)\n",
    "bar_width = 0.35\n",
    "\n",
    "my_dict = {\"actual\":[],\"fasttext\":[]}\n",
    "count = 0\n",
    "\n",
    "for i in np.sort(model.labels):\n",
    "    my_dict[\"actual\"].append(len(totalactual[count]))\n",
    "    my_dict[\"fasttext\"].append(amountPredicted[count])\n",
    "    count = count+1\n",
    "\n",
    "actualList = []\n",
    "fasttextList = []\n",
    "itern = 0\n",
    "for x in my_dict.items():\n",
    "    if itern == 0:\n",
    "        actualList.append(x[1])\n",
    "    else:\n",
    "        fasttextList.append(x[1])\n",
    "    itern = itern+1\n",
    "\n",
    "    \n",
    "actualList.sort()\n",
    "    \n",
    "cl = []\n",
    "for i in np.sort(model.labels):\n",
    "    cl.append(i.replace('__label__',''))\n",
    "\n",
    "    \n",
    "fig, ax = plt.subplots()\n",
    "\n",
    "actual = ax.bar(index, actualList[0], bar_width,\n",
    "                label=\"Actual\")\n",
    "\n",
    "fasttext = ax.bar(index+bar_width, fasttextList[0],\n",
    "                   bar_width, label=\"FastText\")\n",
    "\n",
    "ax.set_xlabel('Rating')\n",
    "ax.set_ylabel('Amount')\n",
    "ax.set_title('Fasttext vs actual dataset')\n",
    "ax.set_xticks(index + bar_width / 2)\n",
    "ax.set_xticklabels(cl)\n",
    "ax.legend()\n",
    "\n",
    "plt.show()"
   ]
  },
  {
   "cell_type": "code",
   "execution_count": 5,
   "metadata": {},
   "outputs": [
    {
     "name": "stdout",
     "output_type": "stream",
     "text": [
      "Review nr: 1612\n",
      "Reviewet har den faktiske rating: __label__5 \n",
      "Fasttext har estimeret følgende ratings, sorteret efter den rating, som fasttext mener er mest sandsynlig\n",
      "__label__5 0.9972090721130371\n",
      "__label__1 0.004208795726299286\n",
      "__label__3 1.0000003385357559e-05\n",
      "__label__2 1.0000003385357559e-05\n",
      "__label__4 1.0000003385357559e-05\n"
     ]
    }
   ],
   "source": [
    "randomIpNumber = random.randint(0,len(df))\n",
    "actualReview = df['review'][randomIpNumber]\n",
    "actualRating = df['rating'][randomIpNumber]\n",
    "predictedReview = model.predict(actualReview,k=-1)\n",
    "print('Review nr:',randomIpNumber+2)\n",
    "#print('Det faktiske review, som det står på trustpilot: '+'\\n'+actualReview)\n",
    "zip_iterator = zip(predictedReview[0], predictedReview[1])\n",
    "mod_dict = dict(zip_iterator)\n",
    "\n",
    "print('Reviewet har den faktiske rating: '+actualRating)\n",
    "print('Fasttext har estimeret følgende ratings, sorteret efter den rating, som fasttext mener er mest sandsynlig')\n",
    "for k, v in mod_dict.items():\n",
    "    print(str(k)+' ' + str(v))\n"
   ]
  },
  {
   "cell_type": "code",
   "execution_count": null,
   "metadata": {},
   "outputs": [],
   "source": []
  }
 ],
 "metadata": {
  "interpreter": {
   "hash": "d4d1e4263499bec80672ea0156c357c1ee493ec2b1c70f0acce89fc37c4a6abe"
  },
  "kernelspec": {
   "display_name": "Python 3",
   "language": "python",
   "name": "python3"
  },
  "language_info": {
   "codemirror_mode": {
    "name": "ipython",
    "version": 3
   },
   "file_extension": ".py",
   "mimetype": "text/x-python",
   "name": "python",
   "nbconvert_exporter": "python",
   "pygments_lexer": "ipython3",
   "version": "3.7.6"
  }
 },
 "nbformat": 4,
 "nbformat_minor": 2
}
