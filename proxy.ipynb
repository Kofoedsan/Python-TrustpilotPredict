{
 "cells": [
  {
   "cell_type": "code",
   "execution_count": 16,
   "metadata": {},
   "outputs": [],
   "source": [
    "import pickle\n",
    "from tqdm.notebook import tqdm\n",
    "import requests"
   ]
  },
  {
   "cell_type": "code",
   "execution_count": 17,
   "metadata": {},
   "outputs": [],
   "source": [
    "#Proxy list\n",
    "url= 'https://raw.githubusercontent.com/jetkai/proxy-list/main/online-proxies/txt/proxies-https.txt' \n",
    "socks = requests.get(url, timeout=10)\n",
    "\n",
    "x = socks.text.split('\\n')\n",
    "\n",
    "proxyList = []\n",
    "\n",
    "#Creates a list with dicts containing https info for use with requests\n",
    "for bx in x:\n",
    "    proxy={'https': 'https://'+bx}\n",
    "    proxyList.append(proxy)"
   ]
  },
  {
   "cell_type": "code",
   "execution_count": null,
   "metadata": {},
   "outputs": [],
   "source": [
    "testfetch = 'https://dk.trustpilot.com/review/power.dk'\n",
    "workingProxyList=[]\n",
    "\n",
    "def proxyCheck(ip):\n",
    "    loadingbar.update(1)\n",
    "    try:\n",
    "        #If requests fail, it exits method and the ThreadPoolExecutor tries a new ip entry\n",
    "        r = requests.get(testfetch, timeout=15, proxies=ip)\n",
    "        #If requets does not fail, it gets added to a list of known working IP's\n",
    "        workingProxyList.append(ip)\n",
    "    except:\n",
    "        pass\n",
    "    \n",
    "with tqdm(total=len(proxyList)) as loadingbar: \n",
    "    with ThreadPoolExecutor(12) as ex:\n",
    "        ex.map(proxyCheck, proxyList)\n",
    "    print(len(workingProxyList))\n",
    "    \n"
   ]
  },
  {
   "cell_type": "code",
   "execution_count": null,
   "metadata": {},
   "outputs": [],
   "source": [
    "#pickle.dump saves the list of working IP's for later use.\n",
    "pickle.dump(workingProxyList,open('ipList','wb'))"
   ]
  },
  {
   "cell_type": "code",
   "execution_count": 13,
   "metadata": {},
   "outputs": [],
   "source": [
    "#Loads a previously tested IP list for use    \n",
    "def loadIpList():\n",
    "    with open('ipList', 'rb') as file:\n",
    "        workingProxyList = pickle.load(file)"
   ]
  }
 ],
 "metadata": {
  "kernelspec": {
   "display_name": "Python 3",
   "language": "python",
   "name": "python3"
  },
  "language_info": {
   "codemirror_mode": {
    "name": "ipython",
    "version": 3
   },
   "file_extension": ".py",
   "mimetype": "text/x-python",
   "name": "python",
   "nbconvert_exporter": "python",
   "pygments_lexer": "ipython3",
   "version": "3.7.6"
  }
 },
 "nbformat": 4,
 "nbformat_minor": 4
}
