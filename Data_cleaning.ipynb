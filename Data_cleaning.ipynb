{
 "cells": [
  {
   "cell_type": "code",
   "execution_count": 10,
   "metadata": {},
   "outputs": [
    {
     "name": "stdout",
     "output_type": "stream",
     "text": [
      "        rating                                             review\n",
      "0  __label__5   super service  god betjening af simon da jeg r...\n",
      "1  __label__1   jeg har altid handlet ved zalando og har fået ...\n",
      "2  __label__1   hvad sker der for zalando. mine varer var love...\n",
      "3  __label__5   elsker zalando. oplever aldrig problemer hverk...\n",
      "4  __label__1   rigtig dårlig til at kommunikere på et ordentl...\n"
     ]
    }
   ],
   "source": [
    "import pandas as pd\n",
    "\n",
    "df = pd.read_csv('output.csv').apply(lambda x: x.astype(str).str.lower())\n",
    "\n",
    "print(df.head())\n",
    "\n",
    "df.to_csv('output_lower.csv', index=False)\n"
   ]
  }
 ],
 "metadata": {
  "kernelspec": {
   "display_name": "Python 3",
   "language": "python",
   "name": "python3"
  },
  "language_info": {
   "codemirror_mode": {
    "name": "ipython",
    "version": 3
   },
   "file_extension": ".py",
   "mimetype": "text/x-python",
   "name": "python",
   "nbconvert_exporter": "python",
   "pygments_lexer": "ipython3",
   "version": "3.7.6"
  }
 },
 "nbformat": 4,
 "nbformat_minor": 4
}
