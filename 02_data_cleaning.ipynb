{
 "cells": [
  {
   "cell_type": "code",
   "execution_count": 14,
   "metadata": {},
   "outputs": [
    {
     "name": "stdout",
     "output_type": "stream",
     "text": [
      "        rating                                             review\n",
      "0  __label__5   jeg elsker zaladnozalando har så mange forskel...\n",
      "1  __label__4   handlet flere gange. gode produkter  nemt at b...\n",
      "2  __label__5   alt til ug. billige priser. nem returnering. s...\n",
      "3  __label__2   hej betalt min regning ( troede jeg) den var å...\n",
      "4  __label__5         super godt.hurtig levering  og fine priser.\n"
     ]
    }
   ],
   "source": [
    "import pandas as pd\n",
    "\n",
    "df = pd.read_csv('output.csv').apply(lambda x: x.astype(str).str.lower())\n",
    "\n",
    "print(df.head())\n",
    "\n",
    "df.to_csv('output_lower.csv', index=False, encoding='utf-8')\n"
   ]
  }
 ],
 "metadata": {
  "kernelspec": {
   "display_name": "Python 3",
   "language": "python",
   "name": "python3"
  },
  "language_info": {
   "codemirror_mode": {
    "name": "ipython",
    "version": 3
   },
   "file_extension": ".py",
   "mimetype": "text/x-python",
   "name": "python",
   "nbconvert_exporter": "python",
   "pygments_lexer": "ipython3",
   "version": "3.7.6"
  }
 },
 "nbformat": 4,
 "nbformat_minor": 4
}
