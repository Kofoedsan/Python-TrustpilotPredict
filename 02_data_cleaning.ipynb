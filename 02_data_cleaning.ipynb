{
 "cells": [
  {
   "cell_type": "code",
   "execution_count": 2,
   "metadata": {
    "scrolled": true
   },
   "outputs": [
    {
     "name": "stdout",
     "output_type": "stream",
     "text": [
      "        rating                                             review\n",
      "0  __label__5   super service  har handlet flere gange  har al...\n",
      "1  __label__1   kan kun give em stjerne for dette købsforløb. ...\n",
      "2  __label__5   fem stjerner for at lytte til en klage. jeg re...\n",
      "3  __label__4   de ting der blev leveret var ok    leveringsti...\n",
      "4  __label__5   proshop havde bedste pris på det ønskede produ...\n"
     ]
    }
   ],
   "source": [
    "import pandas as pd\n",
    "\n",
    "df = pd.read_csv('ProShop_Zalando.csv').apply(lambda x: x.astype(str).str.lower())\n",
    "\n",
    "print(df.head())\n",
    "\n",
    "df.to_csv('ProShop_Zalando_test.csv', index=False, encoding='utf-8')\n"
   ]
  },
  {
   "cell_type": "code",
   "execution_count": null,
   "metadata": {},
   "outputs": [],
   "source": []
  }
 ],
 "metadata": {
  "kernelspec": {
   "display_name": "Python 3",
   "language": "python",
   "name": "python3"
  }
 },
 "nbformat": 4,
 "nbformat_minor": 4
}
