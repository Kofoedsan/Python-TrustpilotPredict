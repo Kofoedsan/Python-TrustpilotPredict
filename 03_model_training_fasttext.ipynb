{
 "cells": [
  {
   "cell_type": "code",
   "execution_count": 25,
   "metadata": {},
   "outputs": [
    {
     "name": "stdout",
     "output_type": "stream",
     "text": [
      "OK\n"
     ]
    }
   ],
   "source": [
    "#Kør kun denne ÈN gang. Muligt du skal genstarte containeren for at det virker\n",
    "#%pip install fasttext\n",
    "\n",
    "import nltk\n",
    "import nltk.corpus\n",
    "import os\n",
    "import fasttext\n",
    "import pickle\n",
    "print(\"OK\")"
   ]
  },
  {
   "cell_type": "code",
   "execution_count": 26,
   "metadata": {},
   "outputs": [
    {
     "name": "stdout",
     "output_type": "stream",
     "text": [
      "['__label__5', '__label__1', '__label__4', '__label__2', '__label__3']\n"
     ]
    }
   ],
   "source": [
    "#https://fasttext.cc/docs/en/supervised-tutorial.html\n",
    "#https://fasttext.cc/docs/en/python-module.html\n",
    "\n",
    "model = fasttext.train_supervised(input=\"sklearn.csv\", epoch=32, lr=0.5, wordNgrams=2, bucket=200000, dim=30, loss='ova')\n",
    "print(model.labels)\n",
    "model.save_model(\"fasttext.bin\")\n"
   ]
  },
  {
   "cell_type": "code",
   "execution_count": 3,
   "metadata": {},
   "outputs": [
    {
     "name": "stdout",
     "output_type": "stream",
     "text": [
      "(('__label__1',), array([0.04469086]))\n",
      "(('__label__5',), array([1.00001001]))\n",
      "(('__label__5',), array([1.00001001]))\n",
      "(('__label__1',), array([1.00001001]))\n",
      "(('__label__3',), array([0.79311597]))\n",
      "(('__label__3',), array([0.07586817]))\n",
      "(('__label__5',), array([0.53121936]))\n"
     ]
    }
   ],
   "source": [
    "lol1 = model.predict(\"kan ikke rigtig anbefale stedet ! at sende en kunde afsted vel vidende bilen ikke fungere :/\")\n",
    "\n",
    "lol2 = model.predict(\"ringe service\")\n",
    "\n",
    "lol3 = model.predict(\"virkelig god service, jeg vil helt klart anbefale det til alle mine venner\")\n",
    "\n",
    "lol4 = model.predict(\"fucking lort dårlig service\")\n",
    "\n",
    "lol5 = model.predict(\"rimelig overskuelig app/hjemmeside det fungere fint og som det skal. men har nu ventet i over en måned på at i for er par sko på lager som jeg godt kunne tænke mig. syndes godt nok det er lang tid.\")\n",
    "\n",
    "lol6 = model.predict(\"rimelig overskuelig. men lang ventetid\")\n",
    "\n",
    "lol7 = model.predict(\"lidt bøvlet at bestille, men hurtig levering. bestilte et fingertouch sikkert panzerglas med til min nye mobil, med det er 200 kr smidt ud af vinduet for efter at have monteret det, kan mobilen ikke åbne med fingeraftryk mere, så er kun mellemtilfreds med mit køb\")\n",
    "\n",
    "print(lol1)\n",
    "print(lol2)\n",
    "print(lol3)\n",
    "print(lol4)\n",
    "print(lol5)\n",
    "print(lol6)\n",
    "print(lol7)\n",
    "\n"
   ]
  },
  {
   "cell_type": "code",
   "execution_count": 4,
   "metadata": {},
   "outputs": [
    {
     "name": "stdout",
     "output_type": "stream",
     "text": [
      "(('__label__1', '__label__4', '__label__5', '__label__3', '__label__2'), array([4.46908623e-02, 3.95540660e-03, 2.72498582e-03, 1.00000034e-05,\n",
      "       1.00000034e-05]))\n"
     ]
    }
   ],
   "source": [
    "lol1 = model.predict(\"kan ikke rigtig anbefale stedet ! at sende en kunde afsted vel vidende bilen ikke fungere :/\", k=5)\n",
    "print(lol1)"
   ]
  },
  {
   "cell_type": "code",
   "execution_count": 14,
   "metadata": {},
   "outputs": [
    {
     "name": "stdout",
     "output_type": "stream",
     "text": [
      "__label__1 0.04469086229801178\n",
      "__label__4 0.003955406602472067\n",
      "__label__5 0.0027249858248978853\n",
      "__label__3 1.0000003385357559e-05\n",
      "__label__2 1.0000003385357559e-05\n"
     ]
    }
   ],
   "source": [
    "lol1 = model.predict(\"kan ikke rigtig anbefale stedet ! at sende en kunde afsted vel vidende bilen ikke fungere :/\",k=5)\n",
    "\n",
    "\n",
    "zip_iterator = zip(lol1[0], lol1[1])\n",
    "mod_dict = dict(zip_iterator)\n",
    "\n",
    "for k, v in mod_dict.items():\n",
    "    print(str(k)+' ' + str(v))"
   ]
  },
  {
   "cell_type": "code",
   "execution_count": 30,
   "metadata": {},
   "outputs": [
    {
     "ename": "SyntaxError",
     "evalue": "invalid syntax (<ipython-input-30-5f844344cc2d>, line 1)",
     "output_type": "error",
     "traceback": [
      "\u001b[0;36m  File \u001b[0;32m\"<ipython-input-30-5f844344cc2d>\"\u001b[0;36m, line \u001b[0;32m1\u001b[0m\n\u001b[0;31m    model.test model 'test.txt' 1\u001b[0m\n\u001b[0m                   ^\u001b[0m\n\u001b[0;31mSyntaxError\u001b[0m\u001b[0;31m:\u001b[0m invalid syntax\n"
     ]
    }
   ],
   "source": [
    "model.test model 'test.txt' 1"
   ]
  },
  {
   "cell_type": "code",
   "execution_count": null,
   "metadata": {},
   "outputs": [],
   "source": []
  }
 ],
 "metadata": {
  "kernelspec": {
   "display_name": "Python 3",
   "language": "python",
   "name": "python3"
  },
  "language_info": {
   "codemirror_mode": {
    "name": "ipython",
    "version": 3
   },
   "file_extension": ".py",
   "mimetype": "text/x-python",
   "name": "python",
   "nbconvert_exporter": "python",
   "pygments_lexer": "ipython3",
   "version": "3.7.6"
  }
 },
 "nbformat": 4,
 "nbformat_minor": 5
}
