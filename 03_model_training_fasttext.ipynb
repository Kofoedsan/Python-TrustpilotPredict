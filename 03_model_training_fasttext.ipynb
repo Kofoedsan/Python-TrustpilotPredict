{
 "cells": [
  {
   "cell_type": "code",
   "execution_count": 1,
   "metadata": {},
   "outputs": [
    {
     "name": "stdout",
     "output_type": "stream",
     "text": [
      "OK\n"
     ]
    }
   ],
   "source": [
    "#Kør kun denne ÈN gang. Muligt du skal genstarte containeren for at det virker\n",
    "#%pip install fasttext\n",
    "\n",
    "import nltk\n",
    "import nltk.corpus\n",
    "import os\n",
    "import fasttext\n",
    "import pickle\n",
    "print(\"OK\")"
   ]
  },
  {
   "cell_type": "code",
   "execution_count": 30,
   "metadata": {},
   "outputs": [
    {
     "name": "stdout",
     "output_type": "stream",
     "text": [
      "['__label__5', '__label__1', '__label__4', '__label__2', '__label__3']\n"
     ]
    }
   ],
   "source": [
    "#https://fasttext.cc/docs/en/supervised-tutorial.html\n",
    "#https://fasttext.cc/docs/en/python-module.html\n",
    "\n",
    "model = fasttext.train_supervised(input=\"sklearn.csv\", epoch=32, lr=0.5, wordNgrams=2, bucket=200000, dim=30, loss='ova')\n",
    "print(model.labels)\n",
    "model.save_model(\"fasttext.bin\")\n"
   ]
  },
  {
   "cell_type": "code",
   "execution_count": 16,
   "metadata": {},
   "outputs": [
    {
     "name": "stdout",
     "output_type": "stream",
     "text": [
      "(('__label__1',), array([0.05835584]))\n",
      "(('__label__5',), array([1.00001001]))\n",
      "(('__label__5',), array([1.00001001]))\n",
      "(('__label__1',), array([1.00001001]))\n",
      "(('__label__3',), array([0.80807722]))\n",
      "(('__label__3',), array([0.16886695]))\n",
      "(('__label__5',), array([0.45327184]))\n"
     ]
    }
   ],
   "source": [
    "lol1 = model.predict(\"kan ikke rigtig anbefale stedet ! at sende en kunde afsted vel vidende bilen ikke fungere :/\")\n",
    "\n",
    "lol2 = model.predict(\"ringe service\")\n",
    "\n",
    "lol3 = model.predict(\"virkelig god service, jeg vil helt klart anbefale det til alle mine venner\")\n",
    "\n",
    "lol4 = model.predict(\"fucking lort dårlig service\")\n",
    "\n",
    "lol5 = model.predict(\"rimelig overskuelig app/hjemmeside det fungere fint og som det skal. men har nu ventet i over en måned på at i for er par sko på lager som jeg godt kunne tænke mig. syndes godt nok det er lang tid.\")\n",
    "\n",
    "lol6 = model.predict(\"rimelig overskuelig. men lang ventetid\")\n",
    "\n",
    "lol7 = model.predict(\"lidt bøvlet at bestille, men hurtig levering. bestilte et fingertouch sikkert panzerglas med til min nye mobil, med det er 200 kr smidt ud af vinduet for efter at have monteret det, kan mobilen ikke åbne med fingeraftryk mere, så er kun mellemtilfreds med mit køb\")\n",
    "\n",
    "print(lol1)\n",
    "print(lol2)\n",
    "print(lol3)\n",
    "print(lol4)\n",
    "print(lol5)\n",
    "print(lol6)\n",
    "print(lol7)\n",
    "\n"
   ]
  },
  {
   "cell_type": "code",
   "execution_count": 65,
   "metadata": {},
   "outputs": [
    {
     "name": "stdout",
     "output_type": "stream",
     "text": [
      "__label__4\n",
      "__label__4\n",
      "0.0036036029923707247\n",
      "0.0036036029923707247\n"
     ]
    }
   ],
   "source": [
    "lol1 = model.predict(\"kan ikke rigtig anbefale stedet ! at sende en kunde afsted vel vidende bilen ikke fungere :/\",k=5)\n",
    "#print(lol1)\n",
    "count = 1\n",
    "for x in lol1:\n",
    "    for b in lol1:\n",
    "        print(x[count])\n",
    "    count=count+1\n",
    "\n"
   ]
  },
  {
   "cell_type": "code",
   "execution_count": 70,
   "metadata": {},
   "outputs": [
    {
     "name": "stdout",
     "output_type": "stream",
     "text": [
      "hej\n",
      "hej\n"
     ]
    }
   ],
   "source": [
    "lol1 = model.predict(\"kan ikke rigtig anbefale stedet ! at sende en kunde afsted vel vidende bilen ikke fungere :/\",k=5)\n",
    "\n",
    "\n"
   ]
  },
  {
   "cell_type": "code",
   "execution_count": null,
   "metadata": {},
   "outputs": [],
   "source": []
  }
 ],
 "metadata": {
  "kernelspec": {
   "display_name": "Python 3",
   "language": "python",
   "name": "python3"
  },
  "language_info": {
   "codemirror_mode": {
    "name": "ipython",
    "version": 3
   },
   "file_extension": ".py",
   "mimetype": "text/x-python",
   "name": "python",
   "nbconvert_exporter": "python",
   "pygments_lexer": "ipython3",
   "version": "3.7.6"
  }
 },
 "nbformat": 4,
 "nbformat_minor": 5
}
